{
 "cells": [
  {
   "cell_type": "markdown",
   "id": "d7f81e7b",
   "metadata": {},
   "source": [
    "# Практика. Метрики классификации\n",
    "\n",
    "Данное практическое задание позволит вам научиться вычислять метрики бинарной классификации и сравнивать по ним различные модели."
   ]
  },
  {
   "cell_type": "markdown",
   "id": "82fd5950",
   "metadata": {},
   "source": [
    "## Прогноз оттока клиентов телеком (telecom churn prediction)\n",
    "\n",
    "В данной задаче необходимо потсроить модель, которая сможет выделить среди клиентов телекома тех, кто собирается прекратить пользоваться услугами."
   ]
  },
  {
   "cell_type": "markdown",
   "id": "0d3642c8",
   "metadata": {},
   "source": [
    "### Подключение библиотек"
   ]
  },
  {
   "cell_type": "code",
   "execution_count": 1,
   "id": "2a380a68",
   "metadata": {},
   "outputs": [
    {
     "name": "stdout",
     "output_type": "stream",
     "text": [
      "Populating the interactive namespace from numpy and matplotlib\n"
     ]
    }
   ],
   "source": [
    "%pylab inline\n",
    "import pandas as pd\n",
    "import numpy as np\n",
    "import seaborn as sns\n",
    "import sklearn"
   ]
  },
  {
   "cell_type": "markdown",
   "id": "4016d596",
   "metadata": {},
   "source": [
    "### Загрузка данных"
   ]
  },
  {
   "cell_type": "code",
   "execution_count": 2,
   "id": "184caea2",
   "metadata": {},
   "outputs": [
    {
     "data": {
      "text/html": [
       "<div>\n",
       "<style scoped>\n",
       "    .dataframe tbody tr th:only-of-type {\n",
       "        vertical-align: middle;\n",
       "    }\n",
       "\n",
       "    .dataframe tbody tr th {\n",
       "        vertical-align: top;\n",
       "    }\n",
       "\n",
       "    .dataframe thead th {\n",
       "        text-align: right;\n",
       "    }\n",
       "</style>\n",
       "<table border=\"1\" class=\"dataframe\">\n",
       "  <thead>\n",
       "    <tr style=\"text-align: right;\">\n",
       "      <th></th>\n",
       "      <th>State</th>\n",
       "      <th>Account length</th>\n",
       "      <th>Area code</th>\n",
       "      <th>International plan</th>\n",
       "      <th>Voice mail plan</th>\n",
       "      <th>Number vmail messages</th>\n",
       "      <th>Total day minutes</th>\n",
       "      <th>Total day calls</th>\n",
       "      <th>Total day charge</th>\n",
       "      <th>Total eve minutes</th>\n",
       "      <th>Total eve calls</th>\n",
       "      <th>Total eve charge</th>\n",
       "      <th>Total night minutes</th>\n",
       "      <th>Total night calls</th>\n",
       "      <th>Total night charge</th>\n",
       "      <th>Total intl minutes</th>\n",
       "      <th>Total intl calls</th>\n",
       "      <th>Total intl charge</th>\n",
       "      <th>Customer service calls</th>\n",
       "      <th>Churn</th>\n",
       "    </tr>\n",
       "  </thead>\n",
       "  <tbody>\n",
       "    <tr>\n",
       "      <th>0</th>\n",
       "      <td>KS</td>\n",
       "      <td>128</td>\n",
       "      <td>415</td>\n",
       "      <td>No</td>\n",
       "      <td>Yes</td>\n",
       "      <td>25</td>\n",
       "      <td>265.1</td>\n",
       "      <td>110</td>\n",
       "      <td>45.07</td>\n",
       "      <td>197.4</td>\n",
       "      <td>99</td>\n",
       "      <td>16.78</td>\n",
       "      <td>244.7</td>\n",
       "      <td>91</td>\n",
       "      <td>11.01</td>\n",
       "      <td>10.0</td>\n",
       "      <td>3</td>\n",
       "      <td>2.70</td>\n",
       "      <td>1</td>\n",
       "      <td>False</td>\n",
       "    </tr>\n",
       "    <tr>\n",
       "      <th>1</th>\n",
       "      <td>OH</td>\n",
       "      <td>107</td>\n",
       "      <td>415</td>\n",
       "      <td>No</td>\n",
       "      <td>Yes</td>\n",
       "      <td>26</td>\n",
       "      <td>161.6</td>\n",
       "      <td>123</td>\n",
       "      <td>27.47</td>\n",
       "      <td>195.5</td>\n",
       "      <td>103</td>\n",
       "      <td>16.62</td>\n",
       "      <td>254.4</td>\n",
       "      <td>103</td>\n",
       "      <td>11.45</td>\n",
       "      <td>13.7</td>\n",
       "      <td>3</td>\n",
       "      <td>3.70</td>\n",
       "      <td>1</td>\n",
       "      <td>False</td>\n",
       "    </tr>\n",
       "    <tr>\n",
       "      <th>2</th>\n",
       "      <td>NJ</td>\n",
       "      <td>137</td>\n",
       "      <td>415</td>\n",
       "      <td>No</td>\n",
       "      <td>No</td>\n",
       "      <td>0</td>\n",
       "      <td>243.4</td>\n",
       "      <td>114</td>\n",
       "      <td>41.38</td>\n",
       "      <td>121.2</td>\n",
       "      <td>110</td>\n",
       "      <td>10.30</td>\n",
       "      <td>162.6</td>\n",
       "      <td>104</td>\n",
       "      <td>7.32</td>\n",
       "      <td>12.2</td>\n",
       "      <td>5</td>\n",
       "      <td>3.29</td>\n",
       "      <td>0</td>\n",
       "      <td>False</td>\n",
       "    </tr>\n",
       "    <tr>\n",
       "      <th>3</th>\n",
       "      <td>OH</td>\n",
       "      <td>84</td>\n",
       "      <td>408</td>\n",
       "      <td>Yes</td>\n",
       "      <td>No</td>\n",
       "      <td>0</td>\n",
       "      <td>299.4</td>\n",
       "      <td>71</td>\n",
       "      <td>50.90</td>\n",
       "      <td>61.9</td>\n",
       "      <td>88</td>\n",
       "      <td>5.26</td>\n",
       "      <td>196.9</td>\n",
       "      <td>89</td>\n",
       "      <td>8.86</td>\n",
       "      <td>6.6</td>\n",
       "      <td>7</td>\n",
       "      <td>1.78</td>\n",
       "      <td>2</td>\n",
       "      <td>False</td>\n",
       "    </tr>\n",
       "    <tr>\n",
       "      <th>4</th>\n",
       "      <td>OK</td>\n",
       "      <td>75</td>\n",
       "      <td>415</td>\n",
       "      <td>Yes</td>\n",
       "      <td>No</td>\n",
       "      <td>0</td>\n",
       "      <td>166.7</td>\n",
       "      <td>113</td>\n",
       "      <td>28.34</td>\n",
       "      <td>148.3</td>\n",
       "      <td>122</td>\n",
       "      <td>12.61</td>\n",
       "      <td>186.9</td>\n",
       "      <td>121</td>\n",
       "      <td>8.41</td>\n",
       "      <td>10.1</td>\n",
       "      <td>3</td>\n",
       "      <td>2.73</td>\n",
       "      <td>3</td>\n",
       "      <td>False</td>\n",
       "    </tr>\n",
       "  </tbody>\n",
       "</table>\n",
       "</div>"
      ],
      "text/plain": [
       "  State  Account length  Area code International plan Voice mail plan  \\\n",
       "0    KS             128        415                 No             Yes   \n",
       "1    OH             107        415                 No             Yes   \n",
       "2    NJ             137        415                 No              No   \n",
       "3    OH              84        408                Yes              No   \n",
       "4    OK              75        415                Yes              No   \n",
       "\n",
       "   Number vmail messages  Total day minutes  Total day calls  \\\n",
       "0                     25              265.1              110   \n",
       "1                     26              161.6              123   \n",
       "2                      0              243.4              114   \n",
       "3                      0              299.4               71   \n",
       "4                      0              166.7              113   \n",
       "\n",
       "   Total day charge  Total eve minutes  Total eve calls  Total eve charge  \\\n",
       "0             45.07              197.4               99             16.78   \n",
       "1             27.47              195.5              103             16.62   \n",
       "2             41.38              121.2              110             10.30   \n",
       "3             50.90               61.9               88              5.26   \n",
       "4             28.34              148.3              122             12.61   \n",
       "\n",
       "   Total night minutes  Total night calls  Total night charge  \\\n",
       "0                244.7                 91               11.01   \n",
       "1                254.4                103               11.45   \n",
       "2                162.6                104                7.32   \n",
       "3                196.9                 89                8.86   \n",
       "4                186.9                121                8.41   \n",
       "\n",
       "   Total intl minutes  Total intl calls  Total intl charge  \\\n",
       "0                10.0                 3               2.70   \n",
       "1                13.7                 3               3.70   \n",
       "2                12.2                 5               3.29   \n",
       "3                 6.6                 7               1.78   \n",
       "4                10.1                 3               2.73   \n",
       "\n",
       "   Customer service calls  Churn  \n",
       "0                       1  False  \n",
       "1                       1  False  \n",
       "2                       0  False  \n",
       "3                       2  False  \n",
       "4                       3  False  "
      ]
     },
     "execution_count": 2,
     "metadata": {},
     "output_type": "execute_result"
    }
   ],
   "source": [
    "dataset_url = 'https://raw.githubusercontent.com/Yorko/mlcourse.ai/master/data/telecom_churn.csv'\n",
    "\n",
    "churn_ds = pd.read_csv(dataset_url)\n",
    "churn_ds.head()"
   ]
  },
  {
   "cell_type": "code",
   "execution_count": 3,
   "id": "2ef4efe2",
   "metadata": {},
   "outputs": [
    {
     "name": "stdout",
     "output_type": "stream",
     "text": [
      "<class 'pandas.core.frame.DataFrame'>\n",
      "RangeIndex: 3333 entries, 0 to 3332\n",
      "Data columns (total 20 columns):\n",
      " #   Column                  Non-Null Count  Dtype  \n",
      "---  ------                  --------------  -----  \n",
      " 0   State                   3333 non-null   object \n",
      " 1   Account length          3333 non-null   int64  \n",
      " 2   Area code               3333 non-null   int64  \n",
      " 3   International plan      3333 non-null   object \n",
      " 4   Voice mail plan         3333 non-null   object \n",
      " 5   Number vmail messages   3333 non-null   int64  \n",
      " 6   Total day minutes       3333 non-null   float64\n",
      " 7   Total day calls         3333 non-null   int64  \n",
      " 8   Total day charge        3333 non-null   float64\n",
      " 9   Total eve minutes       3333 non-null   float64\n",
      " 10  Total eve calls         3333 non-null   int64  \n",
      " 11  Total eve charge        3333 non-null   float64\n",
      " 12  Total night minutes     3333 non-null   float64\n",
      " 13  Total night calls       3333 non-null   int64  \n",
      " 14  Total night charge      3333 non-null   float64\n",
      " 15  Total intl minutes      3333 non-null   float64\n",
      " 16  Total intl calls        3333 non-null   int64  \n",
      " 17  Total intl charge       3333 non-null   float64\n",
      " 18  Customer service calls  3333 non-null   int64  \n",
      " 19  Churn                   3333 non-null   bool   \n",
      "dtypes: bool(1), float64(8), int64(8), object(3)\n",
      "memory usage: 498.1+ KB\n"
     ]
    }
   ],
   "source": [
    "churn_ds.info()"
   ]
  },
  {
   "cell_type": "markdown",
   "id": "5dfab841",
   "metadata": {},
   "source": [
    "### Подготовка данных\n",
    "\n",
    "Целевая переменная хранится в столбце Churn.\n",
    "\n",
    "В качестве признаков возьмем только числовые признаки и бинарные категориальные (International plan и Voice mail plan)."
   ]
  },
  {
   "cell_type": "markdown",
   "id": "e375d28c",
   "metadata": {},
   "source": [
    "Проверим, что столбцы 'International plan' и 'Voice mail plan' модержат только 2 значения."
   ]
  },
  {
   "cell_type": "code",
   "execution_count": 4,
   "id": "283534e4",
   "metadata": {},
   "outputs": [
    {
     "data": {
      "text/plain": [
       "array(['No', 'Yes'], dtype=object)"
      ]
     },
     "execution_count": 4,
     "metadata": {},
     "output_type": "execute_result"
    }
   ],
   "source": [
    "churn_ds['International plan'].unique()"
   ]
  },
  {
   "cell_type": "code",
   "execution_count": 5,
   "id": "f1575b3e",
   "metadata": {},
   "outputs": [
    {
     "data": {
      "text/plain": [
       "array(['Yes', 'No'], dtype=object)"
      ]
     },
     "execution_count": 5,
     "metadata": {},
     "output_type": "execute_result"
    }
   ],
   "source": [
    "churn_ds['Voice mail plan'].unique()"
   ]
  },
  {
   "cell_type": "markdown",
   "id": "593cec5b",
   "metadata": {},
   "source": [
    "Закодируем эти значения с помощью 0 и 1."
   ]
  },
  {
   "cell_type": "code",
   "execution_count": 6,
   "id": "31235494",
   "metadata": {},
   "outputs": [],
   "source": [
    "from sklearn.preprocessing import OrdinalEncoder\n",
    "\n",
    "ordinal_encoder = OrdinalEncoder()\n",
    "\n",
    "churn_ds[[\n",
    "    'International plan encoded',\n",
    "    'Voice mail plan encoded',\n",
    "]] = ordinal_encoder.fit_transform(churn_ds[['International plan', 'Voice mail plan']])"
   ]
  },
  {
   "cell_type": "code",
   "execution_count": 7,
   "id": "4c8b04fe",
   "metadata": {},
   "outputs": [],
   "source": [
    "target = 'Churn'\n",
    "features = [\n",
    "    'Account length',\n",
    "    'International plan encoded',\n",
    "    'Voice mail plan encoded',\n",
    "    'Number vmail messages',\n",
    "    'Total day minutes',\n",
    "    'Total day calls',\n",
    "    'Total day charge',\n",
    "    'Total eve minutes',\n",
    "    'Total eve calls',\n",
    "    'Total eve charge',\n",
    "    'Total night minutes',\n",
    "    'Total night calls',\n",
    "    'Total night charge',\n",
    "    'Total intl minutes',\n",
    "    'Total intl calls',\n",
    "    'Total intl charge',\n",
    "    'Customer service calls',\n",
    "]\n",
    "\n",
    "y = churn_ds[target]\n",
    "X = churn_ds[features]"
   ]
  },
  {
   "cell_type": "markdown",
   "id": "bcd76e64",
   "metadata": {},
   "source": [
    "### Разделение на обучающую и проверочную выборки"
   ]
  },
  {
   "cell_type": "code",
   "execution_count": 8,
   "id": "c7f81d3b",
   "metadata": {},
   "outputs": [],
   "source": [
    "from sklearn.model_selection import train_test_split\n",
    "\n",
    "X_train, X_test, y_train, y_test = train_test_split(X, y, test_size=0.3, random_state=42)"
   ]
  },
  {
   "cell_type": "markdown",
   "id": "5789c149",
   "metadata": {},
   "source": [
    "## Задание\n",
    "\n",
    "1. Обучите DummyClassifier в качестве базовой модели и оцените метрику accuracy на проверочной выборке.\n",
    "2. Обучите LogisticRegression и KNeighborsClassifier и сравните их accuracy с базовой моделью.\n",
    "3. Для всех 3-х моделей вычислите точность, полноту и F-меру.\n",
    "4. Проведите сравнительный анализ по полученным метрикам\n",
    "5. Постройте для LogisticRegression и KNeighborsClassifier PR-кривой и проведите ее анализ\n",
    "6. Постройте для LogisticRegression и KNeighborsClassifier ROC-кривую и проведите ее анализ\n",
    "7. На основании проведенного анализа выберите модель и метрику."
   ]
  },
  {
   "cell_type": "markdown",
   "id": "f884f962",
   "metadata": {},
   "source": [
    "### Подключиение библиотеки"
   ]
  },
  {
   "cell_type": "code",
   "execution_count": 2,
   "id": "33865eb4",
   "metadata": {},
   "outputs": [
    {
     "name": "stdout",
     "output_type": "stream",
     "text": [
      "Populating the interactive namespace from numpy and matplotlib\n"
     ]
    }
   ],
   "source": [
    "%pylab inline\n",
    "import pandas as pd\n",
    "import numpy as np\n",
    "import seaborn as sns\n",
    "import sklearn\n",
    "import math"
   ]
  },
  {
   "cell_type": "markdown",
   "id": "63732713",
   "metadata": {},
   "source": [
    "### Загрузка исходника"
   ]
  },
  {
   "cell_type": "code",
   "execution_count": 3,
   "id": "eecc23ed",
   "metadata": {},
   "outputs": [
    {
     "data": {
      "text/html": [
       "<div>\n",
       "<style scoped>\n",
       "    .dataframe tbody tr th:only-of-type {\n",
       "        vertical-align: middle;\n",
       "    }\n",
       "\n",
       "    .dataframe tbody tr th {\n",
       "        vertical-align: top;\n",
       "    }\n",
       "\n",
       "    .dataframe thead th {\n",
       "        text-align: right;\n",
       "    }\n",
       "</style>\n",
       "<table border=\"1\" class=\"dataframe\">\n",
       "  <thead>\n",
       "    <tr style=\"text-align: right;\">\n",
       "      <th></th>\n",
       "      <th>State</th>\n",
       "      <th>Account length</th>\n",
       "      <th>Area code</th>\n",
       "      <th>International plan</th>\n",
       "      <th>Voice mail plan</th>\n",
       "      <th>Number vmail messages</th>\n",
       "      <th>Total day minutes</th>\n",
       "      <th>Total day calls</th>\n",
       "      <th>Total day charge</th>\n",
       "      <th>Total eve minutes</th>\n",
       "      <th>Total eve calls</th>\n",
       "      <th>Total eve charge</th>\n",
       "      <th>Total night minutes</th>\n",
       "      <th>Total night calls</th>\n",
       "      <th>Total night charge</th>\n",
       "      <th>Total intl minutes</th>\n",
       "      <th>Total intl calls</th>\n",
       "      <th>Total intl charge</th>\n",
       "      <th>Customer service calls</th>\n",
       "      <th>Churn</th>\n",
       "    </tr>\n",
       "  </thead>\n",
       "  <tbody>\n",
       "    <tr>\n",
       "      <th>0</th>\n",
       "      <td>KS</td>\n",
       "      <td>128</td>\n",
       "      <td>415</td>\n",
       "      <td>No</td>\n",
       "      <td>Yes</td>\n",
       "      <td>25</td>\n",
       "      <td>265.1</td>\n",
       "      <td>110</td>\n",
       "      <td>45.07</td>\n",
       "      <td>197.4</td>\n",
       "      <td>99</td>\n",
       "      <td>16.78</td>\n",
       "      <td>244.7</td>\n",
       "      <td>91</td>\n",
       "      <td>11.01</td>\n",
       "      <td>10.0</td>\n",
       "      <td>3</td>\n",
       "      <td>2.70</td>\n",
       "      <td>1</td>\n",
       "      <td>False</td>\n",
       "    </tr>\n",
       "    <tr>\n",
       "      <th>1</th>\n",
       "      <td>OH</td>\n",
       "      <td>107</td>\n",
       "      <td>415</td>\n",
       "      <td>No</td>\n",
       "      <td>Yes</td>\n",
       "      <td>26</td>\n",
       "      <td>161.6</td>\n",
       "      <td>123</td>\n",
       "      <td>27.47</td>\n",
       "      <td>195.5</td>\n",
       "      <td>103</td>\n",
       "      <td>16.62</td>\n",
       "      <td>254.4</td>\n",
       "      <td>103</td>\n",
       "      <td>11.45</td>\n",
       "      <td>13.7</td>\n",
       "      <td>3</td>\n",
       "      <td>3.70</td>\n",
       "      <td>1</td>\n",
       "      <td>False</td>\n",
       "    </tr>\n",
       "    <tr>\n",
       "      <th>2</th>\n",
       "      <td>NJ</td>\n",
       "      <td>137</td>\n",
       "      <td>415</td>\n",
       "      <td>No</td>\n",
       "      <td>No</td>\n",
       "      <td>0</td>\n",
       "      <td>243.4</td>\n",
       "      <td>114</td>\n",
       "      <td>41.38</td>\n",
       "      <td>121.2</td>\n",
       "      <td>110</td>\n",
       "      <td>10.30</td>\n",
       "      <td>162.6</td>\n",
       "      <td>104</td>\n",
       "      <td>7.32</td>\n",
       "      <td>12.2</td>\n",
       "      <td>5</td>\n",
       "      <td>3.29</td>\n",
       "      <td>0</td>\n",
       "      <td>False</td>\n",
       "    </tr>\n",
       "    <tr>\n",
       "      <th>3</th>\n",
       "      <td>OH</td>\n",
       "      <td>84</td>\n",
       "      <td>408</td>\n",
       "      <td>Yes</td>\n",
       "      <td>No</td>\n",
       "      <td>0</td>\n",
       "      <td>299.4</td>\n",
       "      <td>71</td>\n",
       "      <td>50.90</td>\n",
       "      <td>61.9</td>\n",
       "      <td>88</td>\n",
       "      <td>5.26</td>\n",
       "      <td>196.9</td>\n",
       "      <td>89</td>\n",
       "      <td>8.86</td>\n",
       "      <td>6.6</td>\n",
       "      <td>7</td>\n",
       "      <td>1.78</td>\n",
       "      <td>2</td>\n",
       "      <td>False</td>\n",
       "    </tr>\n",
       "    <tr>\n",
       "      <th>4</th>\n",
       "      <td>OK</td>\n",
       "      <td>75</td>\n",
       "      <td>415</td>\n",
       "      <td>Yes</td>\n",
       "      <td>No</td>\n",
       "      <td>0</td>\n",
       "      <td>166.7</td>\n",
       "      <td>113</td>\n",
       "      <td>28.34</td>\n",
       "      <td>148.3</td>\n",
       "      <td>122</td>\n",
       "      <td>12.61</td>\n",
       "      <td>186.9</td>\n",
       "      <td>121</td>\n",
       "      <td>8.41</td>\n",
       "      <td>10.1</td>\n",
       "      <td>3</td>\n",
       "      <td>2.73</td>\n",
       "      <td>3</td>\n",
       "      <td>False</td>\n",
       "    </tr>\n",
       "  </tbody>\n",
       "</table>\n",
       "</div>"
      ],
      "text/plain": [
       "  State  Account length  Area code International plan Voice mail plan  \\\n",
       "0    KS             128        415                 No             Yes   \n",
       "1    OH             107        415                 No             Yes   \n",
       "2    NJ             137        415                 No              No   \n",
       "3    OH              84        408                Yes              No   \n",
       "4    OK              75        415                Yes              No   \n",
       "\n",
       "   Number vmail messages  Total day minutes  Total day calls  \\\n",
       "0                     25              265.1              110   \n",
       "1                     26              161.6              123   \n",
       "2                      0              243.4              114   \n",
       "3                      0              299.4               71   \n",
       "4                      0              166.7              113   \n",
       "\n",
       "   Total day charge  Total eve minutes  Total eve calls  Total eve charge  \\\n",
       "0             45.07              197.4               99             16.78   \n",
       "1             27.47              195.5              103             16.62   \n",
       "2             41.38              121.2              110             10.30   \n",
       "3             50.90               61.9               88              5.26   \n",
       "4             28.34              148.3              122             12.61   \n",
       "\n",
       "   Total night minutes  Total night calls  Total night charge  \\\n",
       "0                244.7                 91               11.01   \n",
       "1                254.4                103               11.45   \n",
       "2                162.6                104                7.32   \n",
       "3                196.9                 89                8.86   \n",
       "4                186.9                121                8.41   \n",
       "\n",
       "   Total intl minutes  Total intl calls  Total intl charge  \\\n",
       "0                10.0                 3               2.70   \n",
       "1                13.7                 3               3.70   \n",
       "2                12.2                 5               3.29   \n",
       "3                 6.6                 7               1.78   \n",
       "4                10.1                 3               2.73   \n",
       "\n",
       "   Customer service calls  Churn  \n",
       "0                       1  False  \n",
       "1                       1  False  \n",
       "2                       0  False  \n",
       "3                       2  False  \n",
       "4                       3  False  "
      ]
     },
     "execution_count": 3,
     "metadata": {},
     "output_type": "execute_result"
    }
   ],
   "source": [
    "dataset_url = 'https://raw.githubusercontent.com/Yorko/mlcourse.ai/master/data/telecom_churn.csv'\n",
    "\n",
    "churn_ds = pd.read_csv(dataset_url)\n",
    "churn_ds.head()"
   ]
  },
  {
   "cell_type": "code",
   "execution_count": 4,
   "id": "d574210d",
   "metadata": {},
   "outputs": [],
   "source": [
    "from sklearn.preprocessing import OrdinalEncoder\n",
    "\n",
    "ordinal_encoder = OrdinalEncoder()\n",
    "\n",
    "churn_ds[[\n",
    "    'International plan encoded',\n",
    "    'Voice mail plan encoded',\n",
    "]] = ordinal_encoder.fit_transform(churn_ds[['International plan', 'Voice mail plan']])"
   ]
  },
  {
   "cell_type": "code",
   "execution_count": 5,
   "id": "f3b3fb76",
   "metadata": {},
   "outputs": [],
   "source": [
    "target = 'Churn'\n",
    "features = [\n",
    "    'Account length',\n",
    "    'International plan encoded',\n",
    "    'Voice mail plan encoded',\n",
    "    'Number vmail messages',\n",
    "    'Total day minutes',\n",
    "    'Total day calls',\n",
    "    'Total day charge',\n",
    "    'Total eve minutes',\n",
    "    'Total eve calls',\n",
    "    'Total eve charge',\n",
    "    'Total night minutes',\n",
    "    'Total night calls',\n",
    "    'Total night charge',\n",
    "    'Total intl minutes',\n",
    "    'Total intl calls',\n",
    "    'Total intl charge',\n",
    "    'Customer service calls',\n",
    "]\n",
    "\n",
    "y = churn_ds[target]\n",
    "X = churn_ds[features]"
   ]
  },
  {
   "cell_type": "markdown",
   "id": "4edf7cae",
   "metadata": {},
   "source": [
    "## Деление выборки"
   ]
  },
  {
   "cell_type": "code",
   "execution_count": 6,
   "id": "687047a4",
   "metadata": {},
   "outputs": [],
   "source": [
    "from sklearn.model_selection import train_test_split\n",
    "X_tr, X_ts, y_tr, y_ts = train_test_split(X, y, test_size=0.3, random_state=42)"
   ]
  },
  {
   "cell_type": "code",
   "execution_count": 7,
   "id": "2ed74dc7",
   "metadata": {},
   "outputs": [
    {
     "data": {
      "text/plain": [
       "1000"
      ]
     },
     "execution_count": 7,
     "metadata": {},
     "output_type": "execute_result"
    }
   ],
   "source": [
    "len(X_ts)"
   ]
  },
  {
   "cell_type": "code",
   "execution_count": 8,
   "id": "8338d2c2",
   "metadata": {},
   "outputs": [
    {
     "data": {
      "text/html": [
       "<div>\n",
       "<style scoped>\n",
       "    .dataframe tbody tr th:only-of-type {\n",
       "        vertical-align: middle;\n",
       "    }\n",
       "\n",
       "    .dataframe tbody tr th {\n",
       "        vertical-align: top;\n",
       "    }\n",
       "\n",
       "    .dataframe thead th {\n",
       "        text-align: right;\n",
       "    }\n",
       "</style>\n",
       "<table border=\"1\" class=\"dataframe\">\n",
       "  <thead>\n",
       "    <tr style=\"text-align: right;\">\n",
       "      <th></th>\n",
       "      <th>State</th>\n",
       "      <th>Account length</th>\n",
       "      <th>Area code</th>\n",
       "      <th>International plan</th>\n",
       "      <th>Voice mail plan</th>\n",
       "      <th>Number vmail messages</th>\n",
       "      <th>Total day minutes</th>\n",
       "      <th>Total day calls</th>\n",
       "      <th>Total day charge</th>\n",
       "      <th>Total eve minutes</th>\n",
       "      <th>...</th>\n",
       "      <th>Total night minutes</th>\n",
       "      <th>Total night calls</th>\n",
       "      <th>Total night charge</th>\n",
       "      <th>Total intl minutes</th>\n",
       "      <th>Total intl calls</th>\n",
       "      <th>Total intl charge</th>\n",
       "      <th>Customer service calls</th>\n",
       "      <th>Churn</th>\n",
       "      <th>International plan encoded</th>\n",
       "      <th>Voice mail plan encoded</th>\n",
       "    </tr>\n",
       "  </thead>\n",
       "  <tbody>\n",
       "    <tr>\n",
       "      <th>0</th>\n",
       "      <td>KS</td>\n",
       "      <td>128</td>\n",
       "      <td>415</td>\n",
       "      <td>No</td>\n",
       "      <td>Yes</td>\n",
       "      <td>25</td>\n",
       "      <td>265.1</td>\n",
       "      <td>110</td>\n",
       "      <td>45.07</td>\n",
       "      <td>197.4</td>\n",
       "      <td>...</td>\n",
       "      <td>244.7</td>\n",
       "      <td>91</td>\n",
       "      <td>11.01</td>\n",
       "      <td>10.0</td>\n",
       "      <td>3</td>\n",
       "      <td>2.70</td>\n",
       "      <td>1</td>\n",
       "      <td>False</td>\n",
       "      <td>0.0</td>\n",
       "      <td>1.0</td>\n",
       "    </tr>\n",
       "    <tr>\n",
       "      <th>1</th>\n",
       "      <td>OH</td>\n",
       "      <td>107</td>\n",
       "      <td>415</td>\n",
       "      <td>No</td>\n",
       "      <td>Yes</td>\n",
       "      <td>26</td>\n",
       "      <td>161.6</td>\n",
       "      <td>123</td>\n",
       "      <td>27.47</td>\n",
       "      <td>195.5</td>\n",
       "      <td>...</td>\n",
       "      <td>254.4</td>\n",
       "      <td>103</td>\n",
       "      <td>11.45</td>\n",
       "      <td>13.7</td>\n",
       "      <td>3</td>\n",
       "      <td>3.70</td>\n",
       "      <td>1</td>\n",
       "      <td>False</td>\n",
       "      <td>0.0</td>\n",
       "      <td>1.0</td>\n",
       "    </tr>\n",
       "    <tr>\n",
       "      <th>2</th>\n",
       "      <td>NJ</td>\n",
       "      <td>137</td>\n",
       "      <td>415</td>\n",
       "      <td>No</td>\n",
       "      <td>No</td>\n",
       "      <td>0</td>\n",
       "      <td>243.4</td>\n",
       "      <td>114</td>\n",
       "      <td>41.38</td>\n",
       "      <td>121.2</td>\n",
       "      <td>...</td>\n",
       "      <td>162.6</td>\n",
       "      <td>104</td>\n",
       "      <td>7.32</td>\n",
       "      <td>12.2</td>\n",
       "      <td>5</td>\n",
       "      <td>3.29</td>\n",
       "      <td>0</td>\n",
       "      <td>False</td>\n",
       "      <td>0.0</td>\n",
       "      <td>0.0</td>\n",
       "    </tr>\n",
       "    <tr>\n",
       "      <th>3</th>\n",
       "      <td>OH</td>\n",
       "      <td>84</td>\n",
       "      <td>408</td>\n",
       "      <td>Yes</td>\n",
       "      <td>No</td>\n",
       "      <td>0</td>\n",
       "      <td>299.4</td>\n",
       "      <td>71</td>\n",
       "      <td>50.90</td>\n",
       "      <td>61.9</td>\n",
       "      <td>...</td>\n",
       "      <td>196.9</td>\n",
       "      <td>89</td>\n",
       "      <td>8.86</td>\n",
       "      <td>6.6</td>\n",
       "      <td>7</td>\n",
       "      <td>1.78</td>\n",
       "      <td>2</td>\n",
       "      <td>False</td>\n",
       "      <td>1.0</td>\n",
       "      <td>0.0</td>\n",
       "    </tr>\n",
       "    <tr>\n",
       "      <th>4</th>\n",
       "      <td>OK</td>\n",
       "      <td>75</td>\n",
       "      <td>415</td>\n",
       "      <td>Yes</td>\n",
       "      <td>No</td>\n",
       "      <td>0</td>\n",
       "      <td>166.7</td>\n",
       "      <td>113</td>\n",
       "      <td>28.34</td>\n",
       "      <td>148.3</td>\n",
       "      <td>...</td>\n",
       "      <td>186.9</td>\n",
       "      <td>121</td>\n",
       "      <td>8.41</td>\n",
       "      <td>10.1</td>\n",
       "      <td>3</td>\n",
       "      <td>2.73</td>\n",
       "      <td>3</td>\n",
       "      <td>False</td>\n",
       "      <td>1.0</td>\n",
       "      <td>0.0</td>\n",
       "    </tr>\n",
       "  </tbody>\n",
       "</table>\n",
       "<p>5 rows × 22 columns</p>\n",
       "</div>"
      ],
      "text/plain": [
       "  State  Account length  Area code International plan Voice mail plan  \\\n",
       "0    KS             128        415                 No             Yes   \n",
       "1    OH             107        415                 No             Yes   \n",
       "2    NJ             137        415                 No              No   \n",
       "3    OH              84        408                Yes              No   \n",
       "4    OK              75        415                Yes              No   \n",
       "\n",
       "   Number vmail messages  Total day minutes  Total day calls  \\\n",
       "0                     25              265.1              110   \n",
       "1                     26              161.6              123   \n",
       "2                      0              243.4              114   \n",
       "3                      0              299.4               71   \n",
       "4                      0              166.7              113   \n",
       "\n",
       "   Total day charge  Total eve minutes  ...  Total night minutes  \\\n",
       "0             45.07              197.4  ...                244.7   \n",
       "1             27.47              195.5  ...                254.4   \n",
       "2             41.38              121.2  ...                162.6   \n",
       "3             50.90               61.9  ...                196.9   \n",
       "4             28.34              148.3  ...                186.9   \n",
       "\n",
       "   Total night calls  Total night charge  Total intl minutes  \\\n",
       "0                 91               11.01                10.0   \n",
       "1                103               11.45                13.7   \n",
       "2                104                7.32                12.2   \n",
       "3                 89                8.86                 6.6   \n",
       "4                121                8.41                10.1   \n",
       "\n",
       "   Total intl calls  Total intl charge  Customer service calls  Churn  \\\n",
       "0                 3               2.70                       1  False   \n",
       "1                 3               3.70                       1  False   \n",
       "2                 5               3.29                       0  False   \n",
       "3                 7               1.78                       2  False   \n",
       "4                 3               2.73                       3  False   \n",
       "\n",
       "   International plan encoded  Voice mail plan encoded  \n",
       "0                         0.0                      1.0  \n",
       "1                         0.0                      1.0  \n",
       "2                         0.0                      0.0  \n",
       "3                         1.0                      0.0  \n",
       "4                         1.0                      0.0  \n",
       "\n",
       "[5 rows x 22 columns]"
      ]
     },
     "execution_count": 8,
     "metadata": {},
     "output_type": "execute_result"
    }
   ],
   "source": [
    "churn_ds.head()"
   ]
  },
  {
   "cell_type": "markdown",
   "id": "7aeac4e9",
   "metadata": {},
   "source": [
    "# _Метод Соседей (kNN)_"
   ]
  },
  {
   "cell_type": "code",
   "execution_count": 9,
   "id": "3e27b010",
   "metadata": {},
   "outputs": [],
   "source": [
    "from sklearn.neighbors import KNeighborsClassifier"
   ]
  },
  {
   "cell_type": "code",
   "execution_count": 10,
   "id": "ff29c915",
   "metadata": {},
   "outputs": [],
   "source": [
    "error = []\n",
    "for i in range(1, 60):\n",
    "    knn = KNeighborsClassifier(n_neighbors=i)\n",
    "    knn.fit(X_tr, y_tr)\n",
    "    pred_i = knn.predict(X_ts)\n",
    "    error.append(np.mean(pred_i != y_ts))"
   ]
  },
  {
   "cell_type": "code",
   "execution_count": 11,
   "id": "3614896c",
   "metadata": {},
   "outputs": [
    {
     "data": {
      "text/plain": [
       "Text(0, 0.5, 'Сред ошибка')"
      ]
     },
     "execution_count": 11,
     "metadata": {},
     "output_type": "execute_result"
    },
    {
     "data": {
      "image/png": "[encoded data removed]",
      "text/plain": [
       "<Figure size 864x432 with 1 Axes>"
      ]
     },
     "metadata": {
      "needs_background": "light"
     },
     "output_type": "display_data"
    }
   ],
   "source": [
    "plt.figure(figsize=(12, 6))\n",
    "plt.plot(range(1, 60), error, color='red', linestyle='dashed', marker='o',\n",
    "         markerfacecolor='blue', markersize=10)\n",
    "plt.title('Error Rate K Value')\n",
    "plt.xlabel('K')\n",
    "plt.ylabel('Сред ошибка')"
   ]
  },
  {
   "cell_type": "code",
   "execution_count": 12,
   "id": "c57d03fe",
   "metadata": {},
   "outputs": [
    {
     "name": "stdout",
     "output_type": "stream",
     "text": [
      "[[846  11]\n",
      " [105  38]]\n",
      "              precision    recall  f1-score   support\n",
      "\n",
      "       False       0.89      0.99      0.94       857\n",
      "        True       0.78      0.27      0.40       143\n",
      "\n",
      "    accuracy                           0.88      1000\n",
      "   macro avg       0.83      0.63      0.67      1000\n",
      "weighted avg       0.87      0.88      0.86      1000\n",
      "\n"
     ]
    }
   ],
   "source": [
    "kNN = KNeighborsClassifier(n_neighbors=7) \n",
    "kNN.fit(X_tr, y_tr)\n",
    "y_pred=kNN.predict(X_ts)\n",
    "from sklearn.metrics import classification_report, confusion_matrix\n",
    "print(confusion_matrix(y_ts, y_pred))\n",
    "print(classification_report(y_ts, y_pred))"
   ]
  },
  {
   "cell_type": "code",
   "execution_count": 13,
   "id": "a1b82330",
   "metadata": {},
   "outputs": [],
   "source": [
    "kNN7_acc=0.88"
   ]
  },
  {
   "cell_type": "code",
   "execution_count": 14,
   "id": "a5ba5141",
   "metadata": {},
   "outputs": [
    {
     "name": "stdout",
     "output_type": "stream",
     "text": [
      "[[819  38]\n",
      " [103  40]]\n",
      "              precision    recall  f1-score   support\n",
      "\n",
      "       False       0.89      0.96      0.92       857\n",
      "        True       0.51      0.28      0.36       143\n",
      "\n",
      "    accuracy                           0.86      1000\n",
      "   macro avg       0.70      0.62      0.64      1000\n",
      "weighted avg       0.83      0.86      0.84      1000\n",
      "\n"
     ]
    }
   ],
   "source": [
    "kNN = KNeighborsClassifier(n_neighbors=3) \n",
    "kNN.fit(X_tr, y_tr)\n",
    "y_pred=kNN.predict(X_ts)\n",
    "from sklearn.metrics import classification_report, confusion_matrix\n",
    "print(confusion_matrix(y_ts, y_pred))\n",
    "print(classification_report(y_ts, y_pred))"
   ]
  },
  {
   "cell_type": "code",
   "execution_count": 15,
   "id": "582c62d0",
   "metadata": {},
   "outputs": [],
   "source": [
    "kNN3_acc=0.86"
   ]
  },
  {
   "cell_type": "markdown",
   "id": "68161644",
   "metadata": {},
   "source": [
    "### _PR кривая_"
   ]
  },
  {
   "cell_type": "markdown",
   "id": "5b3a1f46",
   "metadata": {},
   "source": [
    "- Кривые Precision-Recall суммируют компромисс между истинной положительной скоростью и положительным прогностическим значением для прогнозирующей модели, использующей различные пороги вероятности."
   ]
  },
  {
   "cell_type": "code",
   "execution_count": 16,
   "id": "024d40c8",
   "metadata": {},
   "outputs": [
    {
     "name": "stdout",
     "output_type": "stream",
     "text": [
      "1\n",
      "              precision    recall  f1-score   support\n",
      "\n",
      "       False       0.89      0.87      0.88       857\n",
      "        True       0.33      0.37      0.35       143\n",
      "\n",
      "    accuracy                           0.80      1000\n",
      "   macro avg       0.61      0.62      0.61      1000\n",
      "weighted avg       0.81      0.80      0.81      1000\n",
      "\n",
      "2\n",
      "              precision    recall  f1-score   support\n",
      "\n",
      "       False       0.88      0.98      0.93       857\n",
      "        True       0.63      0.18      0.28       143\n",
      "\n",
      "    accuracy                           0.87      1000\n",
      "   macro avg       0.76      0.58      0.60      1000\n",
      "weighted avg       0.84      0.87      0.84      1000\n",
      "\n",
      "3\n",
      "              precision    recall  f1-score   support\n",
      "\n",
      "       False       0.89      0.96      0.92       857\n",
      "        True       0.51      0.28      0.36       143\n",
      "\n",
      "    accuracy                           0.86      1000\n",
      "   macro avg       0.70      0.62      0.64      1000\n",
      "weighted avg       0.83      0.86      0.84      1000\n",
      "\n",
      "4\n",
      "              precision    recall  f1-score   support\n",
      "\n",
      "       False       0.88      0.99      0.93       857\n",
      "        True       0.71      0.21      0.32       143\n",
      "\n",
      "    accuracy                           0.88      1000\n",
      "   macro avg       0.80      0.60      0.63      1000\n",
      "weighted avg       0.86      0.88      0.84      1000\n",
      "\n",
      "5\n",
      "              precision    recall  f1-score   support\n",
      "\n",
      "       False       0.89      0.98      0.93       857\n",
      "        True       0.67      0.30      0.42       143\n",
      "\n",
      "    accuracy                           0.88      1000\n",
      "   macro avg       0.78      0.64      0.67      1000\n",
      "weighted avg       0.86      0.88      0.86      1000\n",
      "\n",
      "6\n",
      "              precision    recall  f1-score   support\n",
      "\n",
      "       False       0.88      0.99      0.93       857\n",
      "        True       0.82      0.22      0.34       143\n",
      "\n",
      "    accuracy                           0.88      1000\n",
      "   macro avg       0.85      0.60      0.64      1000\n",
      "weighted avg       0.87      0.88      0.85      1000\n",
      "\n",
      "7\n",
      "              precision    recall  f1-score   support\n",
      "\n",
      "       False       0.89      0.99      0.94       857\n",
      "        True       0.78      0.27      0.40       143\n",
      "\n",
      "    accuracy                           0.88      1000\n",
      "   macro avg       0.83      0.63      0.67      1000\n",
      "weighted avg       0.87      0.88      0.86      1000\n",
      "\n",
      "8\n",
      "              precision    recall  f1-score   support\n",
      "\n",
      "       False       0.88      0.99      0.93       857\n",
      "        True       0.82      0.20      0.32       143\n",
      "\n",
      "    accuracy                           0.88      1000\n",
      "   macro avg       0.85      0.59      0.63      1000\n",
      "weighted avg       0.87      0.88      0.85      1000\n",
      "\n",
      "9\n",
      "              precision    recall  f1-score   support\n",
      "\n",
      "       False       0.88      0.99      0.93       857\n",
      "        True       0.80      0.22      0.35       143\n",
      "\n",
      "    accuracy                           0.88      1000\n",
      "   macro avg       0.84      0.61      0.64      1000\n",
      "weighted avg       0.87      0.88      0.85      1000\n",
      "\n"
     ]
    }
   ],
   "source": [
    "for i in range(1, 10):\n",
    "    knn = KNeighborsClassifier(n_neighbors=i)\n",
    "    knn.fit(X_tr, y_tr)\n",
    "    pred_i = knn.predict(X_ts)\n",
    "    print(i)\n",
    "    print(classification_report(y_ts, pred_i))"
   ]
  },
  {
   "cell_type": "code",
   "execution_count": 34,
   "id": "c573130b",
   "metadata": {},
   "outputs": [],
   "source": [
    "Prec_F=[0.89,0.88,0.89,0.88,0.89,0.88,0.89,0.88,0.88]\n",
    "Prec_T=[0.33,0.63,0.51,0.71,0.67,0.82,0.78,0.82,0.80]\n",
    "Rec_F=[0.87,0.98,0.96,0.99,0.98,0.99,0.99,0.99,0.99]\n",
    "Rec_T=[0.37,0.18,0.28,0.21,0.30,0.22,0.27,0.20,0.22]"
   ]
  },
  {
   "cell_type": "code",
   "execution_count": 50,
   "id": "eb460bff",
   "metadata": {},
   "outputs": [
    {
     "data": {
      "text/plain": [
       "Text(0, 0.5, 'precision')"
      ]
     },
     "execution_count": 50,
     "metadata": {},
     "output_type": "execute_result"
    },
    {
     "data": {
      "image/png": "[encoded data removed]",
      "text/plain": [
       "<Figure size 432x288 with 1 Axes>"
      ]
     },
     "metadata": {
      "needs_background": "light"
     },
     "output_type": "display_data"
    }
   ],
   "source": [
    "plt.scatter(Rec_F,Prec_F,alpha=0.45,color='green')\n",
    "plt.scatter(Rec_T,Prec_T,alpha=0.45,color='red')\n",
    "plt.xlabel(\"recall\")\n",
    "plt.ylabel(\"precision\")\n",
    "#plt.ylim(0.2,1.04)\n",
    "#plt.xlim(0.1,1.04)"
   ]
  },
  {
   "cell_type": "code",
   "execution_count": 51,
   "id": "e2621e54",
   "metadata": {},
   "outputs": [
    {
     "data": {
      "text/plain": [
       "[<matplotlib.lines.Line2D at 0x1c637c3bd90>]"
      ]
     },
     "execution_count": 51,
     "metadata": {},
     "output_type": "execute_result"
    },
    {
     "data": {
      "image/png": "[encoded data removed]",
      "text/plain": [
       "<Figure size 432x288 with 1 Axes>"
      ]
     },
     "metadata": {
      "needs_background": "light"
     },
     "output_type": "display_data"
    }
   ],
   "source": [
    "plt.plot(Rec_F,Prec_F,alpha=0.45, color='red', linestyle='dashed', marker='o',\n",
    "         markerfacecolor='blue', markersize=5)"
   ]
  },
  {
   "cell_type": "code",
   "execution_count": 52,
   "id": "1f3e6063",
   "metadata": {},
   "outputs": [
    {
     "data": {
      "text/plain": [
       "[<matplotlib.lines.Line2D at 0x1c637d9e760>]"
      ]
     },
     "execution_count": 52,
     "metadata": {},
     "output_type": "execute_result"
    },
    {
     "data": {
      "image/png": "[encoded data removed]",
      "text/plain": [
       "<Figure size 432x288 with 1 Axes>"
      ]
     },
     "metadata": {
      "needs_background": "light"
     },
     "output_type": "display_data"
    }
   ],
   "source": [
    "plt.plot(Rec_T,Prec_T,alpha=0.45, color='red', linestyle='dashed', marker='o',\n",
    "         markerfacecolor='blue', markersize=5)"
   ]
  },
  {
   "cell_type": "code",
   "execution_count": null,
   "id": "f0153274",
   "metadata": {},
   "outputs": [],
   "source": []
  },
  {
   "cell_type": "code",
   "execution_count": null,
   "id": "5a4a37a1",
   "metadata": {},
   "outputs": [],
   "source": []
  },
  {
   "cell_type": "markdown",
   "id": "37b3c618",
   "metadata": {},
   "source": [
    "## Классификатор \"болванчик\""
   ]
  },
  {
   "cell_type": "code",
   "execution_count": 18,
   "id": "efaad4e9",
   "metadata": {},
   "outputs": [
    {
     "name": "stdout",
     "output_type": "stream",
     "text": [
      "Доля верных ответов для dummy (accuracy): 0.857\n"
     ]
    }
   ],
   "source": [
    "from sklearn.metrics import accuracy_score\n",
    "from sklearn.dummy import DummyClassifier\n",
    "dummy = DummyClassifier().fit(X_tr, y_tr)\n",
    "dummy_y_pred = dummy.predict(X_ts)\n",
    "dummy_acc = accuracy_score(y_ts, dummy_y_pred)\n",
    "print(f\"Доля верных ответов для dummy (accuracy): {dummy_acc:.4}\")"
   ]
  },
  {
   "cell_type": "code",
   "execution_count": 19,
   "id": "001c8a6d",
   "metadata": {},
   "outputs": [],
   "source": [
    "DC_acc=dummy_acc"
   ]
  },
  {
   "cell_type": "code",
   "execution_count": 20,
   "id": "685003f7",
   "metadata": {},
   "outputs": [
    {
     "name": "stdout",
     "output_type": "stream",
     "text": [
      "Разница по Доли верных ответов\n",
      "Метод соседей и Dummy: 7: 0.023,' 2:',0.003\n"
     ]
    }
   ],
   "source": [
    "print('Разница по Доли верных ответов')\n",
    "print(f\"Метод соседей и Dummy: 7: {kNN7_acc-DC_acc:.5},' 2:',{kNN3_acc-DC_acc:.5}\")"
   ]
  },
  {
   "cell_type": "markdown",
   "id": "c4fec096",
   "metadata": {},
   "source": [
    "## Логистическая регрессия"
   ]
  },
  {
   "cell_type": "code",
   "execution_count": 21,
   "id": "b879fbbf",
   "metadata": {},
   "outputs": [],
   "source": [
    "from sklearn.linear_model import LogisticRegression"
   ]
  },
  {
   "cell_type": "code",
   "execution_count": 22,
   "id": "b3a5e8bf",
   "metadata": {},
   "outputs": [],
   "source": [
    "from sklearn.metrics import precision_score, recall_score"
   ]
  },
  {
   "cell_type": "code",
   "execution_count": 23,
   "id": "fc0f48f8",
   "metadata": {},
   "outputs": [],
   "source": [
    "LogReg = LogisticRegression()"
   ]
  },
  {
   "cell_type": "code",
   "execution_count": 24,
   "id": "5d4529ee",
   "metadata": {},
   "outputs": [
    {
     "name": "stderr",
     "output_type": "stream",
     "text": [
      "C:\\Users\\Dima\\anaconda3\\lib\\site-packages\\sklearn\\linear_model\\_logistic.py:763: ConvergenceWarning: lbfgs failed to converge (status=1):\n",
      "STOP: TOTAL NO. of ITERATIONS REACHED LIMIT.\n",
      "\n",
      "Increase the number of iterations (max_iter) or scale the data as shown in:\n",
      "    https://scikit-learn.org/stable/modules/preprocessing.html\n",
      "Please also refer to the documentation for alternative solver options:\n",
      "    https://scikit-learn.org/stable/modules/linear_model.html#logistic-regression\n",
      "  n_iter_i = _check_optimize_result(\n"
     ]
    },
    {
     "data": {
      "text/plain": [
       "LogisticRegression()"
      ]
     },
     "execution_count": 24,
     "metadata": {},
     "output_type": "execute_result"
    }
   ],
   "source": [
    "LogReg.fit(X_tr, y_tr)"
   ]
  },
  {
   "cell_type": "code",
   "execution_count": 25,
   "id": "b66cf028",
   "metadata": {},
   "outputs": [],
   "source": [
    "kl=LogReg.predict(X_ts)"
   ]
  },
  {
   "cell_type": "code",
   "execution_count": 26,
   "id": "8f36ba9a",
   "metadata": {},
   "outputs": [],
   "source": [
    "logreg_precision = precision_score(y_ts, kl)\n",
    "logreg_recall = recall_score(y_ts, kl)"
   ]
  },
  {
   "cell_type": "code",
   "execution_count": 27,
   "id": "0a9ed006",
   "metadata": {},
   "outputs": [
    {
     "name": "stdout",
     "output_type": "stream",
     "text": [
      "Точность(Precision) LogisticRegression: 0.38462\n",
      "Полнота(Recall) LogisticRegression: 0.034965\n"
     ]
    }
   ],
   "source": [
    "print(f\"Точность(Precision) LogisticRegression: {logreg_precision:.5}\")\n",
    "print(f\"Полнота(Recall) LogisticRegression: {logreg_recall:.5}\")"
   ]
  },
  {
   "cell_type": "code",
   "execution_count": 28,
   "id": "b3e30d9b",
   "metadata": {},
   "outputs": [],
   "source": [
    "kNN_kl=knn.predict(X_ts)\n",
    "knn_precision = precision_score(y_ts, kNN_kl)\n",
    "knn_recall = recall_score(y_ts, kNN_kl)"
   ]
  },
  {
   "cell_type": "code",
   "execution_count": 29,
   "id": "2c8e63a2",
   "metadata": {},
   "outputs": [
    {
     "name": "stdout",
     "output_type": "stream",
     "text": [
      "Точность(Precision) kNN: 0.8\n",
      "Полнота(Recall) kNN: 0.22378\n",
      "Для k=3 Точность: Prec(0)= 0.89  Prec(1)= 0.51\n",
      "Для k=3 Полнота: Rec(0)= 0.96  Rec(1)= 0.28\n",
      "Для k=7 Точность: Prec(0)= 0.89  Prec(1)= 0.78\n",
      "Для k=7 Полнота: Rec(0)= 0.99  Rec(1)= 0.27\n"
     ]
    }
   ],
   "source": [
    "print(f\"Точность(Precision) kNN: {knn_precision:.5}\")\n",
    "print(f\"Полнота(Recall) kNN: {knn_recall:.5}\")\n",
    "print('Для k=3 Точность: Prec(0)=',0.89,' Prec(1)=',0.51)\n",
    "print('Для k=3 Полнота: Rec(0)=',0.96,' Rec(1)=',0.28)\n",
    "print('Для k=7 Точность: Prec(0)=',0.89,' Prec(1)=',0.78)\n",
    "print('Для k=7 Полнота: Rec(0)=',0.99,' Rec(1)=',0.27)"
   ]
  },
  {
   "cell_type": "markdown",
   "id": "a5c91b5b",
   "metadata": {},
   "source": [
    "## F мера"
   ]
  },
  {
   "cell_type": "code",
   "execution_count": 30,
   "id": "34ca5768",
   "metadata": {},
   "outputs": [],
   "source": [
    "from sklearn.metrics import f1_score"
   ]
  },
  {
   "cell_type": "code",
   "execution_count": 31,
   "id": "0792bd80",
   "metadata": {},
   "outputs": [],
   "source": [
    "Dumpy_f1=f1_score(y_ts,dummy_y_pred)\n",
    "logit_f1=f1_score(y_ts,kl)"
   ]
  },
  {
   "cell_type": "code",
   "execution_count": 32,
   "id": "cabc994b",
   "metadata": {},
   "outputs": [
    {
     "name": "stdout",
     "output_type": "stream",
     "text": [
      "F- мера Соседей knn\n",
      "Для k=3 : f1(0)= 0.94  f1(1)= 0.4\n",
      "Для k=7 : f1(0)= 0.92  f1(1)= 0.36\n",
      "F мера\n",
      " Болванчик: 0.0\n",
      " LogisticRegression: 0.064103\n"
     ]
    }
   ],
   "source": [
    "print(\"F- мера Соседей knn\")\n",
    "print('Для k=3 : f1(0)=',0.94,' f1(1)=',0.4)\n",
    "print('Для k=7 : f1(0)=',0.92,' f1(1)=',0.36)\n",
    "print(\"F мера\")\n",
    "print(f\" Болванчик: {Dumpy_f1:.5}\")\n",
    "print(f\" LogisticRegression: {logit_f1:.5}\")"
   ]
  },
  {
   "cell_type": "markdown",
   "id": "a72951d6",
   "metadata": {},
   "source": [
    "- _Общее наблюдение 1:_ по полноте выигрывает Логистическая регрессия"
   ]
  },
  {
   "cell_type": "markdown",
   "id": "795e9065",
   "metadata": {},
   "source": [
    "## ROC кривая"
   ]
  },
  {
   "cell_type": "code",
   "execution_count": 33,
   "id": "7ff1c408",
   "metadata": {},
   "outputs": [
    {
     "data": {
      "text/plain": [
       "[<matplotlib.lines.Line2D at 0x1c63472ebe0>]"
      ]
     },
     "execution_count": 33,
     "metadata": {},
     "output_type": "execute_result"
    },
    {
     "data": {
      "image/png": "[encoded data removed]",
      "text/plain": [
       "<Figure size 720x576 with 1 Axes>"
      ]
     },
     "metadata": {
      "needs_background": "light"
     },
     "output_type": "display_data"
    }
   ],
   "source": [
    "from sklearn.metrics import plot_roc_curve\n",
    "plt.figure(figsize=(10, 8))\n",
    "roc_disp = plot_roc_curve(LogReg, X_ts, y_ts, ax=plt.axes(),color='red')\n",
    "plot_roc_curve(knn, X_ts, y_ts, ax=roc_disp.ax_,color='green')\n",
    "plot_roc_curve(dummy, X_ts, y_ts, ax=roc_disp.ax_,color='blue')\n",
    "roc_disp.ax_.plot([0, 1], [0, 1], 'k--')"
   ]
  },
  {
   "cell_type": "code",
   "execution_count": null,
   "id": "63401a2b",
   "metadata": {},
   "outputs": [],
   "source": []
  },
  {
   "cell_type": "code",
   "execution_count": null,
   "id": "06d3e2e9",
   "metadata": {},
   "outputs": [],
   "source": []
  },
  {
   "cell_type": "code",
   "execution_count": null,
   "id": "6942e644",
   "metadata": {},
   "outputs": [],
   "source": []
  }
 ],
 "metadata": {
  "kernelspec": {
   "display_name": "Python 3",
   "language": "python",
   "name": "python3"
  },
  "language_info": {
   "codemirror_mode": {
    "name": "ipython",
    "version": 3
   },
   "file_extension": ".py",
   "mimetype": "text/x-python",
   "name": "python",
   "nbconvert_exporter": "python",
   "pygments_lexer": "ipython3",
   "version": "3.8.8"
  }
 },
 "nbformat": 4,
 "nbformat_minor": 5
}
