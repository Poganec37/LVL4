{
 "cells": [
  {
   "cell_type": "code",
   "execution_count": 7,
   "id": "cbc7f69e",
   "metadata": {},
   "outputs": [],
   "source": [
    "# Градиентный спуск с постоянным шагом\n",
    "import math"
   ]
  },
  {
   "cell_type": "code",
   "execution_count": 8,
   "id": "ea10b8ff",
   "metadata": {},
   "outputs": [],
   "source": [
    "def hostH(k,z,x1,x2,F,gr1,gr2,G):\n",
    "    t=0.06;\n",
    "    while G>z:\n",
    "        print(\"Шаг \",k);\n",
    "        x1=x1-t*gr1; x2=x2-t*gr2;\n",
    "        F=(2.5*x1-1)**2+(3.5*x2+1)**2+x1*x2;\n",
    "        print(\"X1= \",x1,\"; X2= \",x2,\"; F(x1,x2)= \",F);\n",
    "        print(\"T= \",t);\n",
    "        gr1=12.5*x1+x2-5; gr2=24.5*x2+x1+7;\n",
    "        G=math.sqrt((gr1**2)+(gr2**2));\n",
    "        print(\"Grad=( \",gr1,\",\",gr2,\"); Условие: \",G);\n",
    "        k=k+1;\n",
    "        print(\"Шагов \",k);"
   ]
  },
  {
   "cell_type": "code",
   "execution_count": 9,
   "id": "9927ef8c",
   "metadata": {},
   "outputs": [
    {
     "name": "stdout",
     "output_type": "stream",
     "text": [
      "Шаг  0\n",
      "X1=  0 ; X2=  0 ; F(x1,x2)=  2.0\n"
     ]
    }
   ],
   "source": [
    "k=0; x1=0; x2=0;\n",
    "print(\"Шаг \",k);\n",
    "gr1=12.5*x1+x2-5; gr2=24.5*x2+x1+7;\n",
    "F=(2.5*x1-1)**2+(3.5*x2+1)**2+x1*x2;\n",
    "print(\"X1= \",x1,\"; X2= \",x2,\"; F(x1,x2)= \",F);"
   ]
  },
  {
   "cell_type": "code",
   "execution_count": 10,
   "id": "65ac5ace",
   "metadata": {},
   "outputs": [
    {
     "name": "stdout",
     "output_type": "stream",
     "text": [
      "Grad=(  -5.0 , 7.0 ); Условие:  8.602325267042627\n",
      "Шаг  1\n",
      "X1=  0.3 ; X2=  -0.42 ; F(x1,x2)=  0.15739999999999998\n",
      "T=  0.06\n",
      "Grad=(  -1.67 , -2.9899999999999984 ); Условие:  3.424762765506538\n",
      "Шагов  2\n",
      "Шаг  2\n",
      "X1=  0.4002 ; X2=  -0.2406000000000001 ; F(x1,x2)=  -0.07135546000000012\n",
      "T=  0.06\n",
      "Grad=(  -0.2380999999999993 , 1.5054999999999978 ); Условие:  1.5242118815965164\n",
      "Шагов  3\n",
      "Шаг  3\n",
      "X1=  0.41448599999999997 ; X2=  -0.33092999999999995 ; F(x1,x2)=  -0.11080968073000004\n",
      "T=  0.06\n",
      "Grad=(  -0.14985500000000052 , -0.6932989999999979 ); Условие:  0.7093095406280655\n",
      "Шагов  4\n",
      "Шаг  4\n",
      "X1=  0.4234773 ; X2=  -0.28933206000000006 ; F(x1,x2)=  -0.11892033041459144\n",
      "T=  0.06\n",
      "Grad=(  0.004134189999999371 , 0.33484182999999845 ); Условие:  0.33486735081925195\n",
      "Шагов  5\n",
      "Шаг  5\n",
      "X1=  0.42322924860000005 ; X2=  -0.30942256979999994 ; F(x1,x2)=  -0.12069868078054186\n",
      "T=  0.06\n",
      "Grad=(  -0.01905696229999876 , -0.15762371149999854 ); Условие:  0.15877154102400828\n",
      "Шагов  6\n",
      "Шаг  6\n",
      "X1=  0.42437266633799997 ; X2=  -0.29996514711 ; F(x1,x2)=  -0.12109652501602611\n",
      "T=  0.06\n",
      "Grad=(  0.0046931821150000275 , 0.0752265621429995 ); Условие:  0.075372817449125\n",
      "Шагов  7\n",
      "Шаг  7\n",
      "X1=  0.42409107541109997 ; X2=  -0.30447874083857995 ; F(x1,x2)=  -0.12118605866928756\n",
      "T=  0.06\n",
      "Grad=(  -0.003340298199830727 , -0.03563807513410833 ); Условие:  0.03579427316384763\n",
      "Шагов  8\n",
      "Искомая точка Х( 1 )\n",
      "X1=  0 ; X2=  0 ; F(x1,x2)=  2.0\n"
     ]
    }
   ],
   "source": [
    "Qgr=math.sqrt((gr1**2)+(gr2**2));\n",
    "print(\"Grad=( \",gr1,\",\",gr2,\"); Условие: \",Qgr);\n",
    "k=k+1; E=0.05;\n",
    "hostH(k,E,x1,x2,F,gr1,gr2,Qgr);\n",
    "print(\"Искомая точка Х(\",k,\")\");\n",
    "print(\"X1= \",x1,\"; X2= \",x2,\"; F(x1,x2)= \",F);"
   ]
  },
  {
   "cell_type": "code",
   "execution_count": null,
   "id": "1427d9de",
   "metadata": {},
   "outputs": [],
   "source": []
  },
  {
   "cell_type": "code",
   "execution_count": null,
   "id": "c7329594",
   "metadata": {},
   "outputs": [],
   "source": []
  },
  {
   "cell_type": "code",
   "execution_count": null,
   "id": "737dd586",
   "metadata": {},
   "outputs": [],
   "source": []
  }
 ],
 "metadata": {
  "kernelspec": {
   "display_name": "Python 3",
   "language": "python",
   "name": "python3"
  },
  "language_info": {
   "codemirror_mode": {
    "name": "ipython",
    "version": 3
   },
   "file_extension": ".py",
   "mimetype": "text/x-python",
   "name": "python",
   "nbconvert_exporter": "python",
   "pygments_lexer": "ipython3",
   "version": "3.8.8"
  }
 },
 "nbformat": 4,
 "nbformat_minor": 5
}
