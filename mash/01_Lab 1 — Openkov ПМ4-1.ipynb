{
 "cells": [
  {
   "cell_type": "markdown",
   "metadata": {},
   "source": [
    "# Лабораторная работа № 1. Линейная регрессия\n",
    "\n",
    "На основе набора данных об измерениях роста и веса решите следующую задачу.\n",
    "\n",
    "Обучите модель линейной регрессии оценивать  вес человека. Для начала постройте одномерную модель, где в качестве единственного признака будет только вес, который человек сообщил о себе сам. Для обучения линейной модели используейте класс из библиотеки scikit-learn - [LinearRegression](http://scikit-learn.org/stable/modules/generated/sklearn.linear_model.LinearRegression.html)\n",
    "\n",
    "Файл с данными - [Davis.csv](https://github.com/sdukshis/ml-intro/blob/master/datasets/Davis.csv)\n",
    "\n",
    "Расширьте набор признаков добавив данные об измеренном и сообщенном весе, а также данные об поле человека.\n",
    "\n",
    "Обратите внимание, что в некоторых строках встречаются пропуски. Это обычная ситуация при работе с реальными данными. Эти пропуски необходиму убрать из таблицы вместе со всей строкой. Это можно сделать с помощью метода [pandas.DataFrame.dropna](https://pandas.pydata.org/pandas-docs/stable/generated/pandas.DataFrame.dropna.html)"
   ]
  },
  {
   "cell_type": "code",
   "execution_count": 1,
   "metadata": {},
   "outputs": [
    {
     "name": "stdout",
     "output_type": "stream",
     "text": [
      "Populating the interactive namespace from numpy and matplotlib\n"
     ]
    }
   ],
   "source": [
    "import pandas as pd\n",
    "%pylab inline"
   ]
  },
  {
   "cell_type": "code",
   "execution_count": 6,
   "metadata": {},
   "outputs": [
    {
     "data": {
      "text/html": [
       "<div>\n",
       "<table border=\"1\" class=\"dataframe\">\n",
       "  <thead>\n",
       "    <tr style=\"text-align: right;\">\n",
       "      <th></th>\n",
       "      <th>sex</th>\n",
       "      <th>weight</th>\n",
       "      <th>height</th>\n",
       "      <th>repwt</th>\n",
       "      <th>repht</th>\n",
       "    </tr>\n",
       "  </thead>\n",
       "  <tbody>\n",
       "    <tr>\n",
       "      <th>1</th>\n",
       "      <td>M</td>\n",
       "      <td>77</td>\n",
       "      <td>182</td>\n",
       "      <td>77.0</td>\n",
       "      <td>180.0</td>\n",
       "    </tr>\n",
       "    <tr>\n",
       "      <th>2</th>\n",
       "      <td>F</td>\n",
       "      <td>58</td>\n",
       "      <td>161</td>\n",
       "      <td>51.0</td>\n",
       "      <td>159.0</td>\n",
       "    </tr>\n",
       "    <tr>\n",
       "      <th>3</th>\n",
       "      <td>F</td>\n",
       "      <td>53</td>\n",
       "      <td>161</td>\n",
       "      <td>54.0</td>\n",
       "      <td>158.0</td>\n",
       "    </tr>\n",
       "    <tr>\n",
       "      <th>4</th>\n",
       "      <td>M</td>\n",
       "      <td>68</td>\n",
       "      <td>177</td>\n",
       "      <td>70.0</td>\n",
       "      <td>175.0</td>\n",
       "    </tr>\n",
       "    <tr>\n",
       "      <th>5</th>\n",
       "      <td>F</td>\n",
       "      <td>59</td>\n",
       "      <td>157</td>\n",
       "      <td>59.0</td>\n",
       "      <td>155.0</td>\n",
       "    </tr>\n",
       "  </tbody>\n",
       "</table>\n",
       "</div>"
      ],
      "text/plain": [
       "  sex  weight  height  repwt  repht\n",
       "1   M      77     182   77.0  180.0\n",
       "2   F      58     161   51.0  159.0\n",
       "3   F      53     161   54.0  158.0\n",
       "4   M      68     177   70.0  175.0\n",
       "5   F      59     157   59.0  155.0"
      ]
     },
     "execution_count": 6,
     "metadata": {},
     "output_type": "execute_result"
    }
   ],
   "source": [
    "ds = pd.read_csv('https://raw.githubusercontent.com/sdukshis/ml-intro/master/datasets/Davis.csv', index_col=0)\n",
    "ds.head()"
   ]
  },
  {
   "cell_type": "code",
   "execution_count": 5,
   "metadata": {
    "collapsed": true
   },
   "outputs": [],
   "source": [
    "from sklearn.linear_model import LinearRegression"
   ]
  },
  {
   "cell_type": "markdown",
   "metadata": {},
   "source": [
    "## Задание\n",
    "\n",
    "1. Обучите модель линейной регресси на данных, используя в качестве целевой переменной рост (height), а в качестве признака вес (weight).\n",
    "2. Вычислите значение среднеквадратичной ошибки для построенной модели\n",
    "3. Постройте прямую регресии и точки обучающей выборки\n",
    "4. Расширьте пространство признаков, добавив туда пол и repwt.\n",
    "5. Оцените как изменилась среднеквадратичная ошибка"
   ]
  },
  {
   "cell_type": "code",
   "execution_count": 39,
   "metadata": {},
   "outputs": [],
   "source": [
    "import pandas as pd\n",
    "import numpy as np\n",
    "import matplotlib.pyplot as plt\n",
    "from sklearn.linear_model import LinearRegression"
   ]
  },
  {
   "cell_type": "code",
   "execution_count": 40,
   "metadata": {},
   "outputs": [
    {
     "data": {
      "text/html": [
       "<div>\n",
       "<style>\n",
       "    .dataframe thead tr:only-child th {\n",
       "        text-align: right;\n",
       "    }\n",
       "\n",
       "    .dataframe thead th {\n",
       "        text-align: left;\n",
       "    }\n",
       "\n",
       "    .dataframe tbody tr th {\n",
       "        vertical-align: top;\n",
       "    }\n",
       "</style>\n",
       "<table border=\"1\" class=\"dataframe\">\n",
       "  <thead>\n",
       "    <tr style=\"text-align: right;\">\n",
       "      <th></th>\n",
       "      <th>sex</th>\n",
       "      <th>weight</th>\n",
       "      <th>height</th>\n",
       "      <th>repwt</th>\n",
       "      <th>repht</th>\n",
       "    </tr>\n",
       "  </thead>\n",
       "  <tbody>\n",
       "    <tr>\n",
       "      <th>1</th>\n",
       "      <td>M</td>\n",
       "      <td>77</td>\n",
       "      <td>182</td>\n",
       "      <td>77.0</td>\n",
       "      <td>180.0</td>\n",
       "    </tr>\n",
       "    <tr>\n",
       "      <th>2</th>\n",
       "      <td>F</td>\n",
       "      <td>58</td>\n",
       "      <td>161</td>\n",
       "      <td>51.0</td>\n",
       "      <td>159.0</td>\n",
       "    </tr>\n",
       "    <tr>\n",
       "      <th>3</th>\n",
       "      <td>F</td>\n",
       "      <td>53</td>\n",
       "      <td>161</td>\n",
       "      <td>54.0</td>\n",
       "      <td>158.0</td>\n",
       "    </tr>\n",
       "    <tr>\n",
       "      <th>4</th>\n",
       "      <td>M</td>\n",
       "      <td>68</td>\n",
       "      <td>177</td>\n",
       "      <td>70.0</td>\n",
       "      <td>175.0</td>\n",
       "    </tr>\n",
       "    <tr>\n",
       "      <th>5</th>\n",
       "      <td>F</td>\n",
       "      <td>59</td>\n",
       "      <td>157</td>\n",
       "      <td>59.0</td>\n",
       "      <td>155.0</td>\n",
       "    </tr>\n",
       "  </tbody>\n",
       "</table>\n",
       "</div>"
      ],
      "text/plain": [
       "  sex  weight  height  repwt  repht\n",
       "1   M      77     182   77.0  180.0\n",
       "2   F      58     161   51.0  159.0\n",
       "3   F      53     161   54.0  158.0\n",
       "4   M      68     177   70.0  175.0\n",
       "5   F      59     157   59.0  155.0"
      ]
     },
     "execution_count": 40,
     "metadata": {},
     "output_type": "execute_result"
    }
   ],
   "source": [
    "ds = pd.read_csv('https://raw.githubusercontent.com/sdukshis/ml-intro/master/datasets/Davis.csv', index_col=0)\n",
    "ds.head()"
   ]
  },
  {
   "cell_type": "code",
   "execution_count": null,
   "metadata": {
    "collapsed": true
   },
   "outputs": [],
   "source": []
  },
  {
   "cell_type": "code",
   "execution_count": null,
   "metadata": {
    "collapsed": true
   },
   "outputs": [],
   "source": []
  },
  {
   "cell_type": "code",
   "execution_count": 41,
   "metadata": {
    "collapsed": true
   },
   "outputs": [],
   "source": [
    "y=ds.height; x=ds.weight\n",
    "y=y.dropna(); x=x.dropna()"
   ]
  },
  {
   "cell_type": "code",
   "execution_count": 42,
   "metadata": {},
   "outputs": [
    {
     "name": "stderr",
     "output_type": "stream",
     "text": [
      "C:\\Users\\pmuser\\Anaconda3\\lib\\site-packages\\sklearn\\model_selection\\_split.py:2010: FutureWarning: From version 0.21, test_size will always complement train_size unless both are specified.\n",
      "  FutureWarning)\n"
     ]
    }
   ],
   "source": [
    "from sklearn.model_selection import train_test_split\n",
    "X_train,X_test,Y_train,Y_test=train_test_split(x,y,train_size=0.6)"
   ]
  },
  {
   "cell_type": "code",
   "execution_count": 43,
   "metadata": {
    "collapsed": true
   },
   "outputs": [],
   "source": [
    "m=ds[ds.sex==\"M\"]\n",
    "f=ds[ds.sex==\"F\"]"
   ]
  },
  {
   "cell_type": "code",
   "execution_count": 44,
   "metadata": {},
   "outputs": [
    {
     "data": {
      "text/plain": [
       "<matplotlib.text.Text at 0xf147070>"
      ]
     },
     "execution_count": 44,
     "metadata": {},
     "output_type": "execute_result"
    },
    {
     "data": {
      "image/png": "[encoded data removed]",
      "text/plain": [
       "<matplotlib.figure.Figure at 0xf0035b0>"
      ]
     },
     "metadata": {},
     "output_type": "display_data"
    }
   ],
   "source": [
    "##Grafon\n",
    "plt.figure(figsize=(10,6)) #размер\n",
    "plt.scatter(m.weight,m.height,alpha=0.60, color='green') #Oy = height рост(см) Ox = weight вес(кг)\n",
    "plt.scatter(f.weight,f.height,alpha=0.55, color='blue')\n",
    "plt.scatter(x,y,alpha=0.54, color='k')\n",
    "plt.ylabel('Рост см')\n",
    "plt.xlabel('Вес кг')"
   ]
  },
  {
   "cell_type": "code",
   "execution_count": 45,
   "metadata": {
    "collapsed": true
   },
   "outputs": [],
   "source": [
    "## Im model\n",
    "Legr=LinearRegression()"
   ]
  },
  {
   "cell_type": "code",
   "execution_count": 47,
   "metadata": {
    "collapsed": true
   },
   "outputs": [],
   "source": [
    "x_rg=pd.DataFrame(X_train)\n",
    "y_rg=pd.DataFrame(Y_train)"
   ]
  },
  {
   "cell_type": "code",
   "execution_count": 48,
   "metadata": {},
   "outputs": [
    {
     "data": {
      "text/plain": [
       "LinearRegression(copy_X=True, fit_intercept=True, n_jobs=1, normalize=False)"
      ]
     },
     "execution_count": 48,
     "metadata": {},
     "output_type": "execute_result"
    }
   ],
   "source": [
    "Legr.fit(x_rg,y_rg)"
   ]
  },
  {
   "cell_type": "code",
   "execution_count": 49,
   "metadata": {},
   "outputs": [
    {
     "data": {
      "text/plain": [
       "array([[ 0.4950186]])"
      ]
     },
     "execution_count": 49,
     "metadata": {},
     "output_type": "execute_result"
    }
   ],
   "source": [
    "#наклон\n",
    "Legr.coef_"
   ]
  },
  {
   "cell_type": "code",
   "execution_count": 50,
   "metadata": {},
   "outputs": [
    {
     "data": {
      "text/plain": [
       "array([ 138.71645421])"
      ]
     },
     "execution_count": 50,
     "metadata": {},
     "output_type": "execute_result"
    }
   ],
   "source": [
    "Legr.intercept_"
   ]
  },
  {
   "cell_type": "code",
   "execution_count": 56,
   "metadata": {},
   "outputs": [
    {
     "data": {
      "text/plain": [
       "<matplotlib.text.Text at 0x1098d2f0>"
      ]
     },
     "execution_count": 56,
     "metadata": {},
     "output_type": "execute_result"
    },
    {
     "data": {
      "image/png": "[encoded data removed]",
      "text/plain": [
       "<matplotlib.figure.Figure at 0x105f7e30>"
      ]
     },
     "metadata": {},
     "output_type": "display_data"
    }
   ],
   "source": [
    "##Grafon\n",
    "plt.figure(figsize=(10,6)) #размер\n",
    "plt.scatter(X_train,Y_train,alpha=0.80) #Oy = height рост(см) Ox = weight вес(кг)\n",
    "\n",
    "plt.plot(x_rg,Legr.predict(x_rg), color='red',linewidth=3)\n",
    "\n",
    "plt.ylabel('Рост см')\n",
    "plt.xlabel('Вес кг')"
   ]
  },
  {
   "cell_type": "code",
   "execution_count": 57,
   "metadata": {},
   "outputs": [
    {
     "data": {
      "text/plain": [
       "0.54722104759047197"
      ]
     },
     "execution_count": 57,
     "metadata": {},
     "output_type": "execute_result"
    }
   ],
   "source": [
    "# Точность модели (R^2)\n",
    "Legr.score(x_rg,y_rg)"
   ]
  },
  {
   "cell_type": "code",
   "execution_count": 71,
   "metadata": {},
   "outputs": [
    {
     "data": {
      "text/plain": [
       "array([[ 176.3378675]])"
      ]
     },
     "execution_count": 71,
     "metadata": {},
     "output_type": "execute_result"
    }
   ],
   "source": [
    "Legr.predict([[76]])"
   ]
  },
  {
   "cell_type": "code",
   "execution_count": 72,
   "metadata": {},
   "outputs": [],
   "source": [
    "xh=array(X_test); yh=array(Y_test)"
   ]
  },
  {
   "cell_type": "code",
   "execution_count": 73,
   "metadata": {},
   "outputs": [
    {
     "name": "stdout",
     "output_type": "stream",
     "text": [
      "76 =  [[ 176.3378675]]\n",
      "70 =  [[ 173.36775593]]\n",
      "56 =  [[ 166.43749558]]\n",
      "76 =  [[ 176.3378675]]\n",
      "64 =  [[ 170.39764435]]\n",
      "50 =  [[ 163.46738401]]\n",
      "62 =  [[ 169.40760716]]\n",
      "59 =  [[ 167.92255137]]\n",
      "78 =  [[ 177.32790469]]\n",
      "78 =  [[ 177.32790469]]\n",
      "57 =  [[ 166.93251418]]\n",
      "80 =  [[ 178.31794189]]\n",
      "54 =  [[ 165.44745839]]\n",
      "50 =  [[ 163.46738401]]\n",
      "55 =  [[ 165.94247699]]\n",
      "52 =  [[ 164.4574212]]\n",
      "85 =  [[ 180.79303487]]\n",
      "89 =  [[ 182.77310925]]\n",
      "53 =  [[ 164.9524398]]\n",
      "66 =  [[ 171.38768154]]\n",
      "88 =  [[ 182.27809065]]\n",
      "79 =  [[ 177.82292329]]\n",
      "53 =  [[ 164.9524398]]\n",
      "54 =  [[ 165.44745839]]\n",
      "59 =  [[ 167.92255137]]\n",
      "65 =  [[ 170.89266295]]\n",
      "64 =  [[ 170.39764435]]\n",
      "82 =  [[ 179.30797908]]\n",
      "55 =  [[ 165.94247699]]\n",
      "43 =  [[ 160.00225384]]\n",
      "88 =  [[ 182.27809065]]\n",
      "55 =  [[ 165.94247699]]\n",
      "57 =  [[ 166.93251418]]\n",
      "50 =  [[ 163.46738401]]\n",
      "50 =  [[ 163.46738401]]\n",
      "45 =  [[ 160.99229103]]\n",
      "49 =  [[ 162.97236541]]\n",
      "53 =  [[ 164.9524398]]\n",
      "59 =  [[ 167.92255137]]\n",
      "64 =  [[ 170.39764435]]\n",
      "47 =  [[ 161.98232822]]\n",
      "50 =  [[ 163.46738401]]\n",
      "75 =  [[ 175.84284891]]\n",
      "64 =  [[ 170.39764435]]\n",
      "88 =  [[ 182.27809065]]\n",
      "60 =  [[ 168.41756997]]\n",
      "53 =  [[ 164.9524398]]\n",
      "51 =  [[ 163.9624026]]\n",
      "69 =  [[ 172.87273733]]\n",
      "57 =  [[ 166.93251418]]\n",
      "53 =  [[ 164.9524398]]\n",
      "84 =  [[ 180.29801627]]\n",
      "62 =  [[ 169.40760716]]\n",
      "62 =  [[ 169.40760716]]\n",
      "90 =  [[ 183.26812785]]\n",
      "56 =  [[ 166.43749558]]\n",
      "70 =  [[ 173.36775593]]\n",
      "66 =  [[ 171.38768154]]\n",
      "62 =  [[ 169.40760716]]\n",
      "92 =  [[ 184.25816504]]\n",
      "62 =  [[ 169.40760716]]\n",
      "53 =  [[ 164.9524398]]\n",
      "82 =  [[ 179.30797908]]\n",
      "88 =  [[ 182.27809065]]\n",
      "52 =  [[ 164.4574212]]\n",
      "62 =  [[ 169.40760716]]\n",
      "103 =  [[ 189.70336959]]\n",
      "85 =  [[ 180.79303487]]\n",
      "71 =  [[ 173.86277452]]\n",
      "79 =  [[ 177.82292329]]\n",
      "83 =  [[ 179.80299767]]\n",
      "62 =  [[ 169.40760716]]\n",
      "58 =  [[ 167.42753278]]\n",
      "80 =  [[ 178.31794189]]\n",
      "65 =  [[ 170.89266295]]\n",
      "55 =  [[ 165.94247699]]\n",
      "69 =  [[ 172.87273733]]\n",
      "54 =  [[ 165.44745839]]\n",
      "69 =  [[ 172.87273733]]\n",
      "62 =  [[ 169.40760716]]\n"
     ]
    }
   ],
   "source": [
    "nx=len(xh)\n",
    "for i in range(0,nx):\n",
    "    print(xh[i],\"= \",Legr.predict([[xh[i]]]));"
   ]
  },
  {
   "cell_type": "code",
   "execution_count": 74,
   "metadata": {},
   "outputs": [
    {
     "data": {
      "text/plain": [
       "90      57\n",
       "35      68\n",
       "58      73\n",
       "179     81\n",
       "27      63\n",
       "167     63\n",
       "100     55\n",
       "80      69\n",
       "101     55\n",
       "168     66\n",
       "19      76\n",
       "21     119\n",
       "196     74\n",
       "92      56\n",
       "177     60\n",
       "24      66\n",
       "159     58\n",
       "151     57\n",
       "120     65\n",
       "132     87\n",
       "79      69\n",
       "29      39\n",
       "69      52\n",
       "37      56\n",
       "16      65\n",
       "20      61\n",
       "28      58\n",
       "106     53\n",
       "118     96\n",
       "187     60\n",
       "      ... \n",
       "93      84\n",
       "9       71\n",
       "52      56\n",
       "155     48\n",
       "61      68\n",
       "44      78\n",
       "180     68\n",
       "22      61\n",
       "76      50\n",
       "15      52\n",
       "153     47\n",
       "156     54\n",
       "50      75\n",
       "18      62\n",
       "81      61\n",
       "158     59\n",
       "73      55\n",
       "188     58\n",
       "162     54\n",
       "34      52\n",
       "99      52\n",
       "72      66\n",
       "176     71\n",
       "3       53\n",
       "59      75\n",
       "30     101\n",
       "78      63\n",
       "128     45\n",
       "25      54\n",
       "102     63\n",
       "Name: weight, Length: 120, dtype: int64"
      ]
     },
     "execution_count": 74,
     "metadata": {},
     "output_type": "execute_result"
    }
   ],
   "source": [
    "X_train"
   ]
  },
  {
   "cell_type": "code",
   "execution_count": 75,
   "metadata": {},
   "outputs": [
    {
     "data": {
      "text/plain": [
       "7       76\n",
       "91      70\n",
       "165     56\n",
       "171     76\n",
       "145     64\n",
       "134     50\n",
       "71      62\n",
       "193     59\n",
       "64      78\n",
       "121     78\n",
       "160     57\n",
       "181     80\n",
       "46      54\n",
       "75      50\n",
       "146     55\n",
       "142     52\n",
       "140     85\n",
       "192     89\n",
       "83      53\n",
       "141     66\n",
       "39      88\n",
       "33      79\n",
       "136     53\n",
       "49      54\n",
       "110     59\n",
       "23      65\n",
       "14      64\n",
       "174     82\n",
       "82      55\n",
       "182     43\n",
       "      ... \n",
       "143     53\n",
       "111     84\n",
       "116     62\n",
       "195     62\n",
       "139     90\n",
       "74      56\n",
       "185     70\n",
       "178     66\n",
       "87      62\n",
       "17      92\n",
       "105     62\n",
       "170     53\n",
       "51      82\n",
       "191     88\n",
       "107     52\n",
       "175     62\n",
       "97     103\n",
       "45      85\n",
       "31      71\n",
       "112     79\n",
       "135     83\n",
       "138     62\n",
       "2       58\n",
       "70      80\n",
       "10      65\n",
       "154     55\n",
       "94      69\n",
       "41      54\n",
       "157     69\n",
       "131     62\n",
       "Name: weight, Length: 80, dtype: int64"
      ]
     },
     "execution_count": 75,
     "metadata": {},
     "output_type": "execute_result"
    }
   ],
   "source": [
    "X_test"
   ]
  },
  {
   "cell_type": "code",
   "execution_count": null,
   "metadata": {
    "collapsed": true
   },
   "outputs": [],
   "source": []
  }
 ],
 "metadata": {
  "kernelspec": {
   "display_name": "Python 3 (ipykernel)",
   "language": "python",
   "name": "python3"
  },
  "language_info": {
   "codemirror_mode": {
    "name": "ipython",
    "version": 3
   },
   "file_extension": ".py",
   "mimetype": "text/x-python",
   "name": "python",
   "nbconvert_exporter": "python",
   "pygments_lexer": "ipython3",
   "version": "3.8.13"
  }
 },
 "nbformat": 4,
 "nbformat_minor": 2
}
