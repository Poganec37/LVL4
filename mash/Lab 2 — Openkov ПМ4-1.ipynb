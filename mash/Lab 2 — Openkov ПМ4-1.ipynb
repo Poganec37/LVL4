{
 "cells": [
  {
   "cell_type": "markdown",
   "metadata": {},
   "source": [
    "# Лабораторная работа № 2. Логистическая регрессия\n",
    "\n",
    "На основе набора данных об измерениях роста и веса решите следующую задачу.\n",
    "\n",
    "Файл с данными - [Davis.csv](https://github.com/sdukshis/ml-intro/blob/master/datasets/Davis.csv)\n",
    "\n",
    "Расширьте набор признаков добавив данные об измеренном и сообщенном весе, а также данные об поле человека.\n",
    "\n",
    "Обратите внимание, что в некоторых строках встречаются пропуски. Это обычная ситуация при работе с реальными данными. Эти пропуски необходиму убрать из таблицы вместе со всей строкой. Это можно сделать с помощью метода [pandas.DataFrame.dropna](https://pandas.pydata.org/pandas-docs/stable/generated/pandas.DataFrame.dropna.html)"
   ]
  },
  {
   "cell_type": "code",
   "execution_count": 1,
   "metadata": {},
   "outputs": [
    {
     "name": "stdout",
     "output_type": "stream",
     "text": [
      "Populating the interactive namespace from numpy and matplotlib\n"
     ]
    }
   ],
   "source": [
    "import pandas as pd\n",
    "%pylab inline"
   ]
  },
  {
   "cell_type": "code",
   "execution_count": 6,
   "metadata": {},
   "outputs": [
    {
     "data": {
      "text/html": [
       "<div>\n",
       "<table border=\"1\" class=\"dataframe\">\n",
       "  <thead>\n",
       "    <tr style=\"text-align: right;\">\n",
       "      <th></th>\n",
       "      <th>sex</th>\n",
       "      <th>weight</th>\n",
       "      <th>height</th>\n",
       "      <th>repwt</th>\n",
       "      <th>repht</th>\n",
       "    </tr>\n",
       "  </thead>\n",
       "  <tbody>\n",
       "    <tr>\n",
       "      <th>1</th>\n",
       "      <td>M</td>\n",
       "      <td>77</td>\n",
       "      <td>182</td>\n",
       "      <td>77.0</td>\n",
       "      <td>180.0</td>\n",
       "    </tr>\n",
       "    <tr>\n",
       "      <th>2</th>\n",
       "      <td>F</td>\n",
       "      <td>58</td>\n",
       "      <td>161</td>\n",
       "      <td>51.0</td>\n",
       "      <td>159.0</td>\n",
       "    </tr>\n",
       "    <tr>\n",
       "      <th>3</th>\n",
       "      <td>F</td>\n",
       "      <td>53</td>\n",
       "      <td>161</td>\n",
       "      <td>54.0</td>\n",
       "      <td>158.0</td>\n",
       "    </tr>\n",
       "    <tr>\n",
       "      <th>4</th>\n",
       "      <td>M</td>\n",
       "      <td>68</td>\n",
       "      <td>177</td>\n",
       "      <td>70.0</td>\n",
       "      <td>175.0</td>\n",
       "    </tr>\n",
       "    <tr>\n",
       "      <th>5</th>\n",
       "      <td>F</td>\n",
       "      <td>59</td>\n",
       "      <td>157</td>\n",
       "      <td>59.0</td>\n",
       "      <td>155.0</td>\n",
       "    </tr>\n",
       "  </tbody>\n",
       "</table>\n",
       "</div>"
      ],
      "text/plain": [
       "  sex  weight  height  repwt  repht\n",
       "1   M      77     182   77.0  180.0\n",
       "2   F      58     161   51.0  159.0\n",
       "3   F      53     161   54.0  158.0\n",
       "4   M      68     177   70.0  175.0\n",
       "5   F      59     157   59.0  155.0"
      ]
     },
     "execution_count": 6,
     "metadata": {},
     "output_type": "execute_result"
    }
   ],
   "source": [
    "ds = pd.read_csv('https://raw.githubusercontent.com/sdukshis/ml-intro/master/datasets/Davis.csv', index_col=0)\n",
    "ds.head()"
   ]
  },
  {
   "cell_type": "code",
   "execution_count": 5,
   "metadata": {
    "collapsed": true
   },
   "outputs": [],
   "source": [
    "from sklearn.linear_model import LogisticRegression"
   ]
  },
  {
   "cell_type": "markdown",
   "metadata": {},
   "source": [
    "## Задание\n",
    "\n",
    "1. Обучите модель логистической регресси на данных, используя в качестве целевой переменной пол (sex), а в качестве признаков рост и вес (height, weight).\n",
    "2. Нарисуйте точки выборки и разделяющую поверхость.\n",
    "2. Оцените точность и полноту полученного решения и постройте график ROC кривой\n",
    "3. Расширьте простарнство признаков квадратичными признаками.\n",
    "2. Нарисуйте точки выборки и разделяющую поверхость.\n",
    "2. Оцените точность и полноту полученного решения и постройте график ROC кривой"
   ]
  },
  {
   "cell_type": "code",
   "execution_count": 48,
   "metadata": {},
   "outputs": [
    {
     "name": "stdout",
     "output_type": "stream",
     "text": [
      "Populating the interactive namespace from numpy and matplotlib\n"
     ]
    },
    {
     "name": "stderr",
     "output_type": "stream",
     "text": [
      "C:\\Users\\Dima\\anaconda3\\lib\\site-packages\\IPython\\core\\magics\\pylab.py:159: UserWarning: pylab import has clobbered these variables: ['mod']\n",
      "`%matplotlib` prevents importing * from pylab and numpy\n",
      "  warn(\"pylab import has clobbered these variables: %s\"  % clobbered +\n"
     ]
    }
   ],
   "source": [
    "import pandas as pd\n",
    "%pylab inline\n",
    "ds = pd.read_csv('https://raw.githubusercontent.com/sdukshis/ml-intro/master/datasets/Davis.csv', index_col=0)\n",
    "import matplotlib.pyplot as plt"
   ]
  },
  {
   "cell_type": "code",
   "execution_count": 49,
   "metadata": {},
   "outputs": [],
   "source": [
    "ds['sex'] = ds['sex'].map(lambda s: {'M': 0, 'F': 1}[s])"
   ]
  },
  {
   "cell_type": "code",
   "execution_count": 50,
   "metadata": {},
   "outputs": [
    {
     "data": {
      "text/html": [
       "<div>\n",
       "<style scoped>\n",
       "    .dataframe tbody tr th:only-of-type {\n",
       "        vertical-align: middle;\n",
       "    }\n",
       "\n",
       "    .dataframe tbody tr th {\n",
       "        vertical-align: top;\n",
       "    }\n",
       "\n",
       "    .dataframe thead th {\n",
       "        text-align: right;\n",
       "    }\n",
       "</style>\n",
       "<table border=\"1\" class=\"dataframe\">\n",
       "  <thead>\n",
       "    <tr style=\"text-align: right;\">\n",
       "      <th></th>\n",
       "      <th>sex</th>\n",
       "      <th>weight</th>\n",
       "      <th>height</th>\n",
       "      <th>repwt</th>\n",
       "      <th>repht</th>\n",
       "    </tr>\n",
       "  </thead>\n",
       "  <tbody>\n",
       "    <tr>\n",
       "      <th>count</th>\n",
       "      <td>181.000000</td>\n",
       "      <td>181.000000</td>\n",
       "      <td>181.000000</td>\n",
       "      <td>181.000000</td>\n",
       "      <td>181.000000</td>\n",
       "    </tr>\n",
       "    <tr>\n",
       "      <th>mean</th>\n",
       "      <td>0.546961</td>\n",
       "      <td>65.701657</td>\n",
       "      <td>170.756906</td>\n",
       "      <td>65.679558</td>\n",
       "      <td>168.657459</td>\n",
       "    </tr>\n",
       "    <tr>\n",
       "      <th>std</th>\n",
       "      <td>0.499171</td>\n",
       "      <td>13.425492</td>\n",
       "      <td>8.954609</td>\n",
       "      <td>13.834220</td>\n",
       "      <td>9.394668</td>\n",
       "    </tr>\n",
       "    <tr>\n",
       "      <th>min</th>\n",
       "      <td>0.000000</td>\n",
       "      <td>39.000000</td>\n",
       "      <td>148.000000</td>\n",
       "      <td>41.000000</td>\n",
       "      <td>148.000000</td>\n",
       "    </tr>\n",
       "    <tr>\n",
       "      <th>25%</th>\n",
       "      <td>0.000000</td>\n",
       "      <td>56.000000</td>\n",
       "      <td>164.000000</td>\n",
       "      <td>55.000000</td>\n",
       "      <td>161.000000</td>\n",
       "    </tr>\n",
       "    <tr>\n",
       "      <th>50%</th>\n",
       "      <td>1.000000</td>\n",
       "      <td>63.000000</td>\n",
       "      <td>169.000000</td>\n",
       "      <td>63.000000</td>\n",
       "      <td>168.000000</td>\n",
       "    </tr>\n",
       "    <tr>\n",
       "      <th>75%</th>\n",
       "      <td>1.000000</td>\n",
       "      <td>74.000000</td>\n",
       "      <td>178.000000</td>\n",
       "      <td>74.000000</td>\n",
       "      <td>175.000000</td>\n",
       "    </tr>\n",
       "    <tr>\n",
       "      <th>max</th>\n",
       "      <td>1.000000</td>\n",
       "      <td>119.000000</td>\n",
       "      <td>197.000000</td>\n",
       "      <td>124.000000</td>\n",
       "      <td>200.000000</td>\n",
       "    </tr>\n",
       "  </tbody>\n",
       "</table>\n",
       "</div>"
      ],
      "text/plain": [
       "              sex      weight      height       repwt       repht\n",
       "count  181.000000  181.000000  181.000000  181.000000  181.000000\n",
       "mean     0.546961   65.701657  170.756906   65.679558  168.657459\n",
       "std      0.499171   13.425492    8.954609   13.834220    9.394668\n",
       "min      0.000000   39.000000  148.000000   41.000000  148.000000\n",
       "25%      0.000000   56.000000  164.000000   55.000000  161.000000\n",
       "50%      1.000000   63.000000  169.000000   63.000000  168.000000\n",
       "75%      1.000000   74.000000  178.000000   74.000000  175.000000\n",
       "max      1.000000  119.000000  197.000000  124.000000  200.000000"
      ]
     },
     "execution_count": 50,
     "metadata": {},
     "output_type": "execute_result"
    }
   ],
   "source": [
    "U=ds.dropna()\n",
    "U.describe()"
   ]
  },
  {
   "cell_type": "code",
   "execution_count": 92,
   "metadata": {},
   "outputs": [],
   "source": [
    "# Выборка на обучение\n",
    "x1=pd.DataFrame(U.height)\n",
    "y=pd.DataFrame(U.sex)\n",
    "x1=x1.dropna()\n",
    "y=y.dropna()"
   ]
  },
  {
   "cell_type": "code",
   "execution_count": 93,
   "metadata": {},
   "outputs": [],
   "source": [
    "from sklearn.model_selection import train_test_split\n",
    "X1_tr,X1_test,Y_tr,Y_test=train_test_split(x1,y,test_size=0.6)"
   ]
  },
  {
   "cell_type": "code",
   "execution_count": 94,
   "metadata": {},
   "outputs": [
    {
     "name": "stdout",
     "output_type": "stream",
     "text": [
      "Leng(X)=  72 Leng(Y)=  72\n"
     ]
    }
   ],
   "source": [
    "import math\n",
    "import numpy as np\n",
    "xh=np.array(X1_tr)\n",
    "yh=np.array(Y_tr)\n",
    "nx=len(xh)\n",
    "ny=len(yh)\n",
    "print(\"Leng(X)= \",nx, \"Leng(Y)= \",ny)"
   ]
  },
  {
   "cell_type": "code",
   "execution_count": 95,
   "metadata": {},
   "outputs": [
    {
     "data": {
      "text/plain": [
       "109"
      ]
     },
     "execution_count": 95,
     "metadata": {},
     "output_type": "execute_result"
    }
   ],
   "source": [
    "len(X1_test)"
   ]
  },
  {
   "cell_type": "code",
   "execution_count": 96,
   "metadata": {},
   "outputs": [],
   "source": [
    "from sklearn.linear_model import LinearRegression"
   ]
  },
  {
   "cell_type": "code",
   "execution_count": 97,
   "metadata": {},
   "outputs": [
    {
     "data": {
      "text/plain": [
       "Text(0.5, 0, 'Height')"
      ]
     },
     "execution_count": 97,
     "metadata": {},
     "output_type": "execute_result"
    },
    {
     "data": {
      "image/png": "[encoded data removed]",
      "text/plain": [
       "<Figure size 720x432 with 1 Axes>"
      ]
     },
     "metadata": {
      "needs_background": "light"
     },
     "output_type": "display_data"
    }
   ],
   "source": [
    "##Grafon\n",
    "plt.figure(figsize=(10,6)) #размер\n",
    "plt.scatter(X1_tr,Y_tr,alpha=0.60, color='green') #Oy = height рост(см) Ox = weight вес(кг)\n",
    "#plt.scatter(f.weight,f.height,alpha=0.55, color='blue')\n",
    "#plt.scatter(x1,y,alpha=0.54, color='k')\n",
    "plt.ylabel('Sex')\n",
    "plt.xlabel('Height')"
   ]
  },
  {
   "cell_type": "code",
   "execution_count": 98,
   "metadata": {},
   "outputs": [],
   "source": [
    "## Im model\n",
    "Model=LinearRegression()"
   ]
  },
  {
   "cell_type": "code",
   "execution_count": 99,
   "metadata": {},
   "outputs": [
    {
     "data": {
      "text/plain": [
       "LinearRegression()"
      ]
     },
     "execution_count": 99,
     "metadata": {},
     "output_type": "execute_result"
    }
   ],
   "source": [
    "x_rg=pd.DataFrame(X1_tr)\n",
    "y_rg=pd.DataFrame(Y_tr)\n",
    "Model.fit(x_rg,y_rg)"
   ]
  },
  {
   "cell_type": "code",
   "execution_count": 100,
   "metadata": {},
   "outputs": [
    {
     "data": {
      "text/plain": [
       "72"
      ]
     },
     "execution_count": 100,
     "metadata": {},
     "output_type": "execute_result"
    }
   ],
   "source": [
    "len(x_rg)"
   ]
  },
  {
   "cell_type": "code",
   "execution_count": null,
   "metadata": {},
   "outputs": [],
   "source": []
  },
  {
   "cell_type": "code",
   "execution_count": 101,
   "metadata": {},
   "outputs": [
    {
     "data": {
      "text/plain": [
       "<matplotlib.collections.PathCollection at 0x2b7c6491b20>"
      ]
     },
     "execution_count": 101,
     "metadata": {},
     "output_type": "execute_result"
    },
    {
     "data": {
      "image/png": "[encoded data removed]",
      "text/plain": [
       "<Figure size 432x288 with 1 Axes>"
      ]
     },
     "metadata": {
      "needs_background": "light"
     },
     "output_type": "display_data"
    }
   ],
   "source": [
    "plt.plot(x_rg,Model.predict(x_rg), color='red',linewidth=3)\n",
    "plt.scatter(X1_tr,Y_tr,alpha=0.60, color='green')"
   ]
  },
  {
   "cell_type": "code",
   "execution_count": 102,
   "metadata": {},
   "outputs": [
    {
     "name": "stdout",
     "output_type": "stream",
     "text": [
      "[[-0.04591258]] [8.35417707]\n"
     ]
    }
   ],
   "source": [
    "print(Model.coef_,Model.intercept_)"
   ]
  },
  {
   "cell_type": "code",
   "execution_count": 103,
   "metadata": {},
   "outputs": [
    {
     "data": {
      "text/plain": [
       "<matplotlib.collections.PathCollection at 0x2b7c6484280>"
      ]
     },
     "execution_count": 103,
     "metadata": {},
     "output_type": "execute_result"
    },
    {
     "data": {
      "image/png": "[encoded data removed]",
      "text/plain": [
       "<Figure size 432x288 with 1 Axes>"
      ]
     },
     "metadata": {
      "needs_background": "light"
     },
     "output_type": "display_data"
    }
   ],
   "source": [
    "plt.plot(x_rg,Model.coef_*x_rg+Model.intercept_, color='red',linewidth=3)\n",
    "plt.scatter(X1_tr,Y_tr,alpha=0.60, color='green')"
   ]
  },
  {
   "cell_type": "code",
   "execution_count": 104,
   "metadata": {},
   "outputs": [],
   "source": [
    "t = np.linspace(-150, 160, 72)\n",
    "t1 = np.linspace(-150, 160, 109)"
   ]
  },
  {
   "cell_type": "code",
   "execution_count": 105,
   "metadata": {},
   "outputs": [
    {
     "name": "stderr",
     "output_type": "stream",
     "text": [
      "C:\\Users\\Dima\\anaconda3\\lib\\site-packages\\sklearn\\utils\\validation.py:63: DataConversionWarning: A column-vector y was passed when a 1d array was expected. Please change the shape of y to (n_samples, ), for example using ravel().\n",
      "  return f(*args, **kwargs)\n"
     ]
    }
   ],
   "source": [
    "from sklearn.linear_model import LogisticRegression\n",
    "model=LogisticRegression(C=1e+10)\n",
    "model.fit(x_rg,y_rg)\n",
    "S=model.coef_"
   ]
  },
  {
   "cell_type": "code",
   "execution_count": 106,
   "metadata": {},
   "outputs": [
    {
     "name": "stdout",
     "output_type": "stream",
     "text": [
      "[[-0.47349843]]\n"
     ]
    }
   ],
   "source": [
    "print(S)"
   ]
  },
  {
   "cell_type": "code",
   "execution_count": 107,
   "metadata": {},
   "outputs": [
    {
     "data": {
      "image/png": "[encoded data removed]",
      "text/plain": [
       "<Figure size 432x288 with 1 Axes>"
      ]
     },
     "metadata": {
      "needs_background": "light"
     },
     "output_type": "display_data"
    }
   ],
   "source": [
    "sigma = np.exp(-t)/(1+np.exp(-t))\n",
    "plt.plot(t, sigma)\n",
    "plt.ylim(-0.1, 1.1)\n",
    "plt.xlabel('$z$')\n",
    "plt.title('График логистической функции $\\sigma(z)$');"
   ]
  },
  {
   "cell_type": "code",
   "execution_count": 108,
   "metadata": {},
   "outputs": [],
   "source": [
    "y_pas=S*x_rg\n",
    "m=(y_pas>0)\n",
    "n=(y_pas<0)"
   ]
  },
  {
   "cell_type": "code",
   "execution_count": 109,
   "metadata": {},
   "outputs": [
    {
     "data": {
      "text/plain": [
       "[<matplotlib.lines.Line2D at 0x2b7c76dad90>]"
      ]
     },
     "execution_count": 109,
     "metadata": {},
     "output_type": "execute_result"
    },
    {
     "data": {
      "image/png": "[encoded data removed]",
      "text/plain": [
       "<Figure size 432x288 with 1 Axes>"
      ]
     },
     "metadata": {
      "needs_background": "light"
     },
     "output_type": "display_data"
    }
   ],
   "source": [
    "plt.plot(x_rg,m,color='green',linewidth=2,alpha=0.45)\n",
    "plt.plot(x_rg,n,color='y',linewidth=2,alpha=0.45)\n",
    "sigm= lambda t:np.exp(-t)/(1+np.exp(-t))\n",
    "plt.ylim(-0.1, 1.1)\n",
    "plt.plot(X1_tr,sigm(t),color='k',linewidth=3,alpha=0.6)"
   ]
  },
  {
   "cell_type": "code",
   "execution_count": 110,
   "metadata": {},
   "outputs": [],
   "source": [
    "# Выборка на обучение\n",
    "x2=pd.DataFrame(U.weight)\n",
    "y1=pd.DataFrame(U.sex)\n",
    "x2=x2.dropna()\n",
    "y1=y1.dropna()"
   ]
  },
  {
   "cell_type": "code",
   "execution_count": 111,
   "metadata": {},
   "outputs": [],
   "source": [
    "from sklearn.model_selection import train_test_split\n",
    "X2_tr,X2_test,Y1_tr,Y1_test=train_test_split(x2,y1,test_size=0.6)"
   ]
  },
  {
   "cell_type": "code",
   "execution_count": 112,
   "metadata": {},
   "outputs": [
    {
     "name": "stdout",
     "output_type": "stream",
     "text": [
      "72 109\n"
     ]
    }
   ],
   "source": [
    "print(len(X2_tr),len(X2_test))"
   ]
  },
  {
   "cell_type": "code",
   "execution_count": 113,
   "metadata": {},
   "outputs": [
    {
     "data": {
      "text/plain": [
       "Text(0.5, 0, 'Weight')"
      ]
     },
     "execution_count": 113,
     "metadata": {},
     "output_type": "execute_result"
    },
    {
     "data": {
      "image/png": "[encoded data removed]",
      "text/plain": [
       "<Figure size 720x432 with 1 Axes>"
      ]
     },
     "metadata": {
      "needs_background": "light"
     },
     "output_type": "display_data"
    }
   ],
   "source": [
    "##Grafon\n",
    "plt.figure(figsize=(10,6)) #размер\n",
    "plt.scatter(X2_tr,Y1_tr,alpha=0.60, color='green')\n",
    "plt.ylabel('Sex')\n",
    "plt.xlabel('Weight')"
   ]
  },
  {
   "cell_type": "code",
   "execution_count": 114,
   "metadata": {},
   "outputs": [],
   "source": [
    "ts = np.linspace(-150, 160, len(X2_tr))"
   ]
  },
  {
   "cell_type": "code",
   "execution_count": 115,
   "metadata": {},
   "outputs": [],
   "source": [
    "from sklearn.linear_model import LinearRegression"
   ]
  },
  {
   "cell_type": "code",
   "execution_count": 116,
   "metadata": {},
   "outputs": [
    {
     "data": {
      "text/plain": [
       "LinearRegression()"
      ]
     },
     "execution_count": 116,
     "metadata": {},
     "output_type": "execute_result"
    }
   ],
   "source": [
    "## Im model\n",
    "Model=LinearRegression()\n",
    "x2_rg=pd.DataFrame(X2_tr)\n",
    "y1_rg=pd.DataFrame(Y1_tr)\n",
    "Model.fit(x2_rg,y1_rg)"
   ]
  },
  {
   "cell_type": "code",
   "execution_count": 117,
   "metadata": {},
   "outputs": [
    {
     "data": {
      "text/plain": [
       "<matplotlib.collections.PathCollection at 0x2b7c77a1ca0>"
      ]
     },
     "execution_count": 117,
     "metadata": {},
     "output_type": "execute_result"
    },
    {
     "data": {
      "image/png": "[encoded data removed]",
      "text/plain": [
       "<Figure size 432x288 with 1 Axes>"
      ]
     },
     "metadata": {
      "needs_background": "light"
     },
     "output_type": "display_data"
    }
   ],
   "source": [
    "plt.plot(x2_rg,Model.predict(x2_rg), color='red',linewidth=3)\n",
    "plt.scatter(X2_tr,Y1_tr,alpha=0.60, color='green')"
   ]
  },
  {
   "cell_type": "code",
   "execution_count": 118,
   "metadata": {},
   "outputs": [
    {
     "name": "stderr",
     "output_type": "stream",
     "text": [
      "C:\\Users\\Dima\\anaconda3\\lib\\site-packages\\sklearn\\utils\\validation.py:63: DataConversionWarning: A column-vector y was passed when a 1d array was expected. Please change the shape of y to (n_samples, ), for example using ravel().\n",
      "  return f(*args, **kwargs)\n"
     ]
    }
   ],
   "source": [
    "mod=LogisticRegression(C=1e+10)\n",
    "mod.fit(x2_rg,y1_rg)\n",
    "S2=mod.coef_"
   ]
  },
  {
   "cell_type": "code",
   "execution_count": 119,
   "metadata": {},
   "outputs": [
    {
     "data": {
      "image/png": "[encoded data removed]",
      "text/plain": [
       "<Figure size 432x288 with 1 Axes>"
      ]
     },
     "metadata": {
      "needs_background": "light"
     },
     "output_type": "display_data"
    }
   ],
   "source": [
    "sigma = 1/(1+np.exp(ts))\n",
    "plt.plot(ts, sigma)\n",
    "plt.ylim(-0.1, 1.1)\n",
    "plt.xlabel('$z$')\n",
    "plt.title('График логистической функции $\\sigma(z)$');"
   ]
  },
  {
   "cell_type": "code",
   "execution_count": 120,
   "metadata": {},
   "outputs": [],
   "source": [
    "y1_pas=S*x2_rg\n",
    "m1=(y1_pas>0)\n",
    "n1=(y1_pas<0)"
   ]
  },
  {
   "cell_type": "code",
   "execution_count": 121,
   "metadata": {},
   "outputs": [
    {
     "data": {
      "text/plain": [
       "[<matplotlib.lines.Line2D at 0x2b7c78276a0>]"
      ]
     },
     "execution_count": 121,
     "metadata": {},
     "output_type": "execute_result"
    },
    {
     "data": {
      "image/png": "[encoded data removed]",
      "text/plain": [
       "<Figure size 432x288 with 1 Axes>"
      ]
     },
     "metadata": {
      "needs_background": "light"
     },
     "output_type": "display_data"
    }
   ],
   "source": [
    "plt.plot(x2_rg,m1,color='green',linewidth=2,alpha=0.45)\n",
    "plt.plot(x2_rg,n1,color='y',linewidth=2,alpha=0.45)\n",
    "sigm= lambda t:1/(1+np.exp(t))\n",
    "plt.ylim(-0.1, 1.1)\n",
    "plt.plot(X2_tr,sigm(ts),color='k',linewidth=3,alpha=0.6)"
   ]
  },
  {
   "cell_type": "markdown",
   "metadata": {},
   "source": [
    "## ROC кривая"
   ]
  },
  {
   "cell_type": "code",
   "execution_count": 122,
   "metadata": {},
   "outputs": [
    {
     "name": "stdout",
     "output_type": "stream",
     "text": [
      "[1] =  [0.26894142]\n",
      "[0] =  [0.5]\n",
      "[1] =  [0.26894142]\n",
      "[0] =  [0.5]\n",
      "[0] =  [0.5]\n",
      "[0] =  [0.5]\n",
      "[0] =  [0.5]\n",
      "[1] =  [0.26894142]\n",
      "[0] =  [0.5]\n",
      "[0] =  [0.5]\n",
      "[0] =  [0.5]\n",
      "[1] =  [0.26894142]\n",
      "[1] =  [0.26894142]\n",
      "[1] =  [0.26894142]\n",
      "[1] =  [0.26894142]\n",
      "[0] =  [0.5]\n",
      "[1] =  [0.26894142]\n",
      "[1] =  [0.26894142]\n",
      "[0] =  [0.5]\n",
      "[0] =  [0.5]\n",
      "[1] =  [0.26894142]\n",
      "[1] =  [0.26894142]\n",
      "[0] =  [0.5]\n",
      "[1] =  [0.26894142]\n",
      "[1] =  [0.26894142]\n",
      "[1] =  [0.26894142]\n",
      "[0] =  [0.5]\n",
      "[1] =  [0.26894142]\n",
      "[0] =  [0.5]\n",
      "[1] =  [0.26894142]\n",
      "[0] =  [0.5]\n",
      "[0] =  [0.5]\n",
      "[0] =  [0.5]\n",
      "[1] =  [0.26894142]\n",
      "[1] =  [0.26894142]\n",
      "[0] =  [0.5]\n",
      "[1] =  [0.26894142]\n",
      "[0] =  [0.5]\n",
      "[0] =  [0.5]\n",
      "[1] =  [0.26894142]\n",
      "[1] =  [0.26894142]\n",
      "[1] =  [0.26894142]\n",
      "[1] =  [0.26894142]\n",
      "[1] =  [0.26894142]\n",
      "[0] =  [0.5]\n",
      "[0] =  [0.5]\n",
      "[1] =  [0.26894142]\n",
      "[1] =  [0.26894142]\n",
      "[1] =  [0.26894142]\n",
      "[1] =  [0.26894142]\n",
      "[1] =  [0.26894142]\n",
      "[0] =  [0.5]\n",
      "[1] =  [0.26894142]\n",
      "[1] =  [0.26894142]\n",
      "[0] =  [0.5]\n",
      "[1] =  [0.26894142]\n",
      "[0] =  [0.5]\n",
      "[1] =  [0.26894142]\n",
      "[1] =  [0.26894142]\n",
      "[1] =  [0.26894142]\n",
      "[0] =  [0.5]\n",
      "[1] =  [0.26894142]\n",
      "[0] =  [0.5]\n",
      "[0] =  [0.5]\n",
      "[1] =  [0.26894142]\n",
      "[0] =  [0.5]\n",
      "[0] =  [0.5]\n",
      "[0] =  [0.5]\n",
      "[1] =  [0.26894142]\n",
      "[1] =  [0.26894142]\n",
      "[1] =  [0.26894142]\n",
      "[1] =  [0.26894142]\n"
     ]
    }
   ],
   "source": [
    "xh=np.array(x_rg)\n",
    "yh=np.array(y_rg)\n",
    "nx=len(xh)\n",
    "ny=len(yh)\n",
    "nx=len(xh)\n",
    "for i in range(0,nx):\n",
    "    print(yh[i],\"= \",sigm(yh[i]));"
   ]
  },
  {
   "cell_type": "code",
   "execution_count": 123,
   "metadata": {},
   "outputs": [
    {
     "name": "stdout",
     "output_type": "stream",
     "text": [
      "y=1: 41 y=0: 31\n"
     ]
    }
   ],
   "source": [
    "Positives=0\n",
    "Negatives=0\n",
    "j=0\n",
    "k=0\n",
    "for i in range(0,nx):\n",
    "    if (yh[i]==1):\n",
    "        j=j+1\n",
    "        Positives=np.sum(yh[i])\n",
    "    else: k=k+1;  Negatives=np.sum(yh[i])\n",
    "print('y=1:',j, 'y=0:',k)        "
   ]
  },
  {
   "cell_type": "code",
   "execution_count": 124,
   "metadata": {},
   "outputs": [
    {
     "name": "stdout",
     "output_type": "stream",
     "text": [
      "1 0\n"
     ]
    }
   ],
   "source": [
    "print(Positives,Negatives)"
   ]
  },
  {
   "cell_type": "code",
   "execution_count": 125,
   "metadata": {},
   "outputs": [
    {
     "name": "stdout",
     "output_type": "stream",
     "text": [
      "0.024390243902439025 0.03225806451612903\n"
     ]
    }
   ],
   "source": [
    "print(1/j,1/k)"
   ]
  },
  {
   "cell_type": "code",
   "execution_count": 126,
   "metadata": {},
   "outputs": [
    {
     "name": "stdout",
     "output_type": "stream",
     "text": [
      "0  A=  0.024390243902439025\n",
      "1  B=  0.03225806451612903\n",
      "2  A=  0.04878048780487805\n",
      "3  B=  0.06451612903225806\n",
      "4  B=  0.0967741935483871\n",
      "5  B=  0.12903225806451613\n",
      "6  B=  0.16129032258064516\n",
      "7  A=  0.07317073170731708\n",
      "8  B=  0.1935483870967742\n",
      "9  B=  0.22580645161290322\n",
      "10  B=  0.25806451612903225\n",
      "11  A=  0.0975609756097561\n",
      "12  A=  0.12195121951219512\n",
      "13  A=  0.14634146341463414\n",
      "14  A=  0.17073170731707316\n",
      "15  B=  0.29032258064516125\n",
      "16  A=  0.19512195121951217\n",
      "17  A=  0.2195121951219512\n",
      "18  B=  0.32258064516129026\n",
      "19  B=  0.35483870967741926\n",
      "20  A=  0.2439024390243902\n",
      "21  A=  0.26829268292682923\n",
      "22  B=  0.38709677419354827\n",
      "23  A=  0.2926829268292683\n",
      "24  A=  0.3170731707317073\n",
      "25  A=  0.34146341463414637\n",
      "26  B=  0.41935483870967727\n",
      "27  A=  0.3658536585365854\n",
      "28  B=  0.4516129032258063\n",
      "29  A=  0.39024390243902446\n",
      "30  B=  0.4838709677419353\n",
      "31  B=  0.5161290322580643\n",
      "32  B=  0.5483870967741933\n",
      "33  A=  0.4146341463414635\n",
      "34  A=  0.43902439024390255\n",
      "35  B=  0.5806451612903223\n",
      "36  A=  0.4634146341463416\n",
      "37  B=  0.6129032258064513\n",
      "38  B=  0.6451612903225803\n",
      "39  A=  0.48780487804878064\n",
      "40  A=  0.5121951219512196\n",
      "41  A=  0.5365853658536587\n",
      "42  A=  0.5609756097560977\n",
      "43  A=  0.5853658536585368\n",
      "44  B=  0.6774193548387093\n",
      "45  B=  0.7096774193548383\n",
      "46  A=  0.6097560975609758\n",
      "47  A=  0.6341463414634149\n",
      "48  A=  0.6585365853658539\n",
      "49  A=  0.682926829268293\n",
      "50  A=  0.707317073170732\n",
      "51  B=  0.7419354838709673\n",
      "52  A=  0.731707317073171\n",
      "53  A=  0.7560975609756101\n",
      "54  B=  0.7741935483870963\n",
      "55  A=  0.7804878048780491\n",
      "56  B=  0.8064516129032253\n",
      "57  A=  0.8048780487804882\n",
      "58  A=  0.8292682926829272\n",
      "59  A=  0.8536585365853663\n",
      "60  B=  0.8387096774193543\n",
      "61  A=  0.8780487804878053\n",
      "62  B=  0.8709677419354833\n",
      "63  B=  0.9032258064516123\n",
      "64  A=  0.9024390243902444\n",
      "65  B=  0.9354838709677413\n",
      "66  B=  0.9677419354838703\n",
      "67  B=  0.9999999999999993\n",
      "68  A=  0.9268292682926834\n",
      "69  A=  0.9512195121951225\n",
      "70  A=  0.9756097560975615\n",
      "71  A=  1.0000000000000004\n",
      "\n",
      " TPR : [0, 0.024390243902439025, 0.04878048780487805, 0.07317073170731708, 0.0975609756097561, 0.12195121951219512, 0.14634146341463414, 0.17073170731707316, 0.19512195121951217, 0.2195121951219512, 0.2439024390243902, 0.26829268292682923, 0.2926829268292683, 0.3170731707317073, 0.34146341463414637, 0.3658536585365854, 0.39024390243902446, 0.4146341463414635, 0.43902439024390255, 0.4634146341463416, 0.48780487804878064, 0.5121951219512196, 0.5365853658536587, 0.5609756097560977, 0.5853658536585368, 0.6097560975609758, 0.6341463414634149, 0.6585365853658539, 0.682926829268293, 0.707317073170732, 0.731707317073171, 0.7560975609756101, 0.7804878048780491, 0.8048780487804882, 0.8292682926829272, 0.8536585365853663, 0.8780487804878053, 0.9024390243902444, 0.9268292682926834, 0.9512195121951225, 0.9756097560975615, 1.0000000000000004]\n",
      "\n",
      " FPR : [0, 0.03225806451612903, 0.06451612903225806, 0.0967741935483871, 0.12903225806451613, 0.16129032258064516, 0.1935483870967742, 0.22580645161290322, 0.25806451612903225, 0.29032258064516125, 0.32258064516129026, 0.35483870967741926, 0.38709677419354827, 0.41935483870967727, 0.4516129032258063, 0.4838709677419353, 0.5161290322580643, 0.5483870967741933, 0.5806451612903223, 0.6129032258064513, 0.6451612903225803, 0.6774193548387093, 0.7096774193548383, 0.7419354838709673, 0.7741935483870963, 0.8064516129032253, 0.8387096774193543, 0.8709677419354833, 0.9032258064516123, 0.9354838709677413, 0.9677419354838703, 0.9999999999999993]\n"
     ]
    }
   ],
   "source": [
    "A=[]\n",
    "B=[]\n",
    "a=0\n",
    "b=0\n",
    "A.append(a)\n",
    "B.append(b)\n",
    "for i in range(0,nx):\n",
    "    if(yh[i]==1): \n",
    "        a=a+1/j\n",
    "        A.append(a)\n",
    "        print(i,' A= ',a)\n",
    "    else:\n",
    "        b=b+1/k\n",
    "        B.append(b)\n",
    "        print(i,' B= ',b)\n",
    "print('\\n TPR :',A)\n",
    "print('\\n FPR :',B)"
   ]
  },
  {
   "cell_type": "code",
   "execution_count": 127,
   "metadata": {},
   "outputs": [
    {
     "data": {
      "text/plain": [
       "42"
      ]
     },
     "execution_count": 127,
     "metadata": {},
     "output_type": "execute_result"
    }
   ],
   "source": [
    "len(A)"
   ]
  },
  {
   "cell_type": "code",
   "execution_count": 128,
   "metadata": {},
   "outputs": [
    {
     "data": {
      "text/plain": [
       "32"
      ]
     },
     "execution_count": 128,
     "metadata": {},
     "output_type": "execute_result"
    }
   ],
   "source": [
    "len(B)"
   ]
  },
  {
   "cell_type": "code",
   "execution_count": 129,
   "metadata": {},
   "outputs": [
    {
     "data": {
      "text/plain": [
       "[0,\n",
       " 0.03225806451612903,\n",
       " 0.06451612903225806,\n",
       " 0.0967741935483871,\n",
       " 0.12903225806451613,\n",
       " 0.16129032258064516,\n",
       " 0.1935483870967742,\n",
       " 0.22580645161290322,\n",
       " 0.25806451612903225,\n",
       " 0.29032258064516125,\n",
       " 0.32258064516129026,\n",
       " 0.35483870967741926,\n",
       " 0.38709677419354827,\n",
       " 0.41935483870967727,\n",
       " 0.4516129032258063,\n",
       " 0.4838709677419353,\n",
       " 0.5161290322580643,\n",
       " 0.5483870967741933,\n",
       " 0.5806451612903223,\n",
       " 0.6129032258064513,\n",
       " 0.6451612903225803,\n",
       " 0.6774193548387093,\n",
       " 0.7096774193548383,\n",
       " 0.7419354838709673,\n",
       " 0.7741935483870963,\n",
       " 0.8064516129032253,\n",
       " 0.8387096774193543,\n",
       " 0.8709677419354833,\n",
       " 0.9032258064516123,\n",
       " 0.9354838709677413,\n",
       " 0.9677419354838703,\n",
       " 0.9999999999999993]"
      ]
     },
     "execution_count": 129,
     "metadata": {},
     "output_type": "execute_result"
    }
   ],
   "source": [
    "B"
   ]
  },
  {
   "cell_type": "code",
   "execution_count": 130,
   "metadata": {},
   "outputs": [
    {
     "data": {
      "text/plain": [
       "[0,\n",
       " 0.024390243902439025,\n",
       " 0.04878048780487805,\n",
       " 0.07317073170731708,\n",
       " 0.0975609756097561,\n",
       " 0.12195121951219512,\n",
       " 0.14634146341463414,\n",
       " 0.17073170731707316,\n",
       " 0.19512195121951217,\n",
       " 0.2195121951219512,\n",
       " 0.2439024390243902,\n",
       " 0.26829268292682923,\n",
       " 0.2926829268292683,\n",
       " 0.3170731707317073,\n",
       " 0.34146341463414637,\n",
       " 0.3658536585365854,\n",
       " 0.39024390243902446,\n",
       " 0.4146341463414635,\n",
       " 0.43902439024390255,\n",
       " 0.4634146341463416,\n",
       " 0.48780487804878064,\n",
       " 0.5121951219512196,\n",
       " 0.5365853658536587,\n",
       " 0.5609756097560977,\n",
       " 0.5853658536585368,\n",
       " 0.6097560975609758,\n",
       " 0.6341463414634149,\n",
       " 0.6585365853658539,\n",
       " 0.682926829268293,\n",
       " 0.707317073170732,\n",
       " 0.731707317073171,\n",
       " 0.7560975609756101,\n",
       " 0.7804878048780491,\n",
       " 0.8048780487804882,\n",
       " 0.8292682926829272,\n",
       " 0.8536585365853663,\n",
       " 0.8780487804878053,\n",
       " 0.9024390243902444,\n",
       " 0.9268292682926834,\n",
       " 0.9512195121951225,\n",
       " 0.9756097560975615,\n",
       " 1.0000000000000004]"
      ]
     },
     "execution_count": 130,
     "metadata": {},
     "output_type": "execute_result"
    }
   ],
   "source": [
    "A"
   ]
  },
  {
   "cell_type": "code",
   "execution_count": 131,
   "metadata": {},
   "outputs": [],
   "source": [
    "y=[A[0],A[0],A[0],A[1],A[1],A[2],A[2],A[2],A[2],A[3],A[4],A[4],A[4],A[4],A[4],A[5],\n",
    "  A[6],A[7],A[7],A[7],A[7],A[8],A[9],A[9],A[9],A[9],A[10],A[11],\n",
    "  A[11],A[11],A[12],A[13],A[13],A[14],A[15],A[15],A[15],A[16],A[17],A[18],\n",
    "  A[18],A[18],A[19],A[20],A[21],A[21],A[22],A[23],A[24],A[25],\n",
    "  A[25],A[26],A[26],A[27],A[28],A[29],A[30],A[30],A[30],\n",
    "  A[31],A[32],A[33],A[34],A[34],\n",
    "  A[35],A[36],A[37],A[38],A[39],A[39],A[39],A[40],A[41]]\n",
    "x=[B[0],B[1],B[2],B[2],B[3],B[3],B[4],B[5],B[6],B[6],B[6],B[7],B[8],B[9],B[10],B[10],\n",
    "  B[10],B[10],B[11],B[12],B[13],B[13],B[13],B[14],B[15],B[16],B[16],B[16],\n",
    "  B[17],B[18],B[18],B[18],B[19],B[19],B[19],B[20],B[21],B[21],B[21],B[21],\n",
    "  B[22],B[23],B[23],B[23],B[23],B[24],B[24],B[24],B[24],B[24],\n",
    "  B[25],B[25],B[26],B[26],B[26],B[26],B[26],B[27],B[28],\n",
    "  B[28],B[28],B[28],B[28],B[29],\n",
    "  B[29],B[29],B[29],B[29],B[29],B[30],B[31],B[31],B[31]]\n",
    "xh=array(x); f=array(y)"
   ]
  },
  {
   "cell_type": "code",
   "execution_count": 132,
   "metadata": {},
   "outputs": [
    {
     "name": "stdout",
     "output_type": "stream",
     "text": [
      "0  ( 0.0  ;  0.0 )\n",
      "1  ( 0.03225806451612903  ;  0.0 )\n",
      "2  ( 0.06451612903225806  ;  0.0 )\n",
      "3  ( 0.06451612903225806  ;  0.024390243902439025 )\n",
      "4  ( 0.0967741935483871  ;  0.024390243902439025 )\n",
      "5  ( 0.0967741935483871  ;  0.04878048780487805 )\n",
      "6  ( 0.12903225806451613  ;  0.04878048780487805 )\n",
      "7  ( 0.16129032258064516  ;  0.04878048780487805 )\n",
      "8  ( 0.1935483870967742  ;  0.04878048780487805 )\n",
      "9  ( 0.1935483870967742  ;  0.07317073170731708 )\n",
      "10  ( 0.1935483870967742  ;  0.0975609756097561 )\n",
      "11  ( 0.22580645161290322  ;  0.0975609756097561 )\n",
      "12  ( 0.25806451612903225  ;  0.0975609756097561 )\n",
      "13  ( 0.29032258064516125  ;  0.0975609756097561 )\n",
      "14  ( 0.32258064516129026  ;  0.0975609756097561 )\n",
      "15  ( 0.32258064516129026  ;  0.12195121951219512 )\n",
      "16  ( 0.32258064516129026  ;  0.14634146341463414 )\n",
      "17  ( 0.32258064516129026  ;  0.17073170731707316 )\n",
      "18  ( 0.35483870967741926  ;  0.17073170731707316 )\n",
      "19  ( 0.38709677419354827  ;  0.17073170731707316 )\n",
      "20  ( 0.41935483870967727  ;  0.17073170731707316 )\n",
      "21  ( 0.41935483870967727  ;  0.19512195121951217 )\n",
      "22  ( 0.41935483870967727  ;  0.2195121951219512 )\n",
      "23  ( 0.4516129032258063  ;  0.2195121951219512 )\n",
      "24  ( 0.4838709677419353  ;  0.2195121951219512 )\n",
      "25  ( 0.5161290322580643  ;  0.2195121951219512 )\n",
      "26  ( 0.5161290322580643  ;  0.2439024390243902 )\n",
      "27  ( 0.5161290322580643  ;  0.26829268292682923 )\n",
      "28  ( 0.5483870967741933  ;  0.26829268292682923 )\n",
      "29  ( 0.5806451612903223  ;  0.26829268292682923 )\n",
      "30  ( 0.5806451612903223  ;  0.2926829268292683 )\n",
      "31  ( 0.5806451612903223  ;  0.3170731707317073 )\n",
      "32  ( 0.6129032258064513  ;  0.3170731707317073 )\n",
      "33  ( 0.6129032258064513  ;  0.34146341463414637 )\n",
      "34  ( 0.6129032258064513  ;  0.3658536585365854 )\n",
      "35  ( 0.6451612903225803  ;  0.3658536585365854 )\n",
      "36  ( 0.6774193548387093  ;  0.3658536585365854 )\n",
      "37  ( 0.6774193548387093  ;  0.39024390243902446 )\n",
      "38  ( 0.6774193548387093  ;  0.4146341463414635 )\n",
      "39  ( 0.6774193548387093  ;  0.43902439024390255 )\n",
      "40  ( 0.7096774193548383  ;  0.43902439024390255 )\n",
      "41  ( 0.7419354838709673  ;  0.43902439024390255 )\n",
      "42  ( 0.7419354838709673  ;  0.4634146341463416 )\n",
      "43  ( 0.7419354838709673  ;  0.48780487804878064 )\n",
      "44  ( 0.7419354838709673  ;  0.5121951219512196 )\n",
      "45  ( 0.7741935483870963  ;  0.5121951219512196 )\n",
      "46  ( 0.7741935483870963  ;  0.5365853658536587 )\n",
      "47  ( 0.7741935483870963  ;  0.5609756097560977 )\n",
      "48  ( 0.7741935483870963  ;  0.5853658536585368 )\n",
      "49  ( 0.7741935483870963  ;  0.6097560975609758 )\n",
      "50  ( 0.8064516129032253  ;  0.6097560975609758 )\n",
      "51  ( 0.8064516129032253  ;  0.6341463414634149 )\n",
      "52  ( 0.8387096774193543  ;  0.6341463414634149 )\n",
      "53  ( 0.8387096774193543  ;  0.6585365853658539 )\n",
      "54  ( 0.8387096774193543  ;  0.682926829268293 )\n",
      "55  ( 0.8387096774193543  ;  0.707317073170732 )\n",
      "56  ( 0.8387096774193543  ;  0.731707317073171 )\n",
      "57  ( 0.8709677419354833  ;  0.731707317073171 )\n",
      "58  ( 0.9032258064516123  ;  0.731707317073171 )\n",
      "59  ( 0.9032258064516123  ;  0.7560975609756101 )\n",
      "60  ( 0.9032258064516123  ;  0.7804878048780491 )\n",
      "61  ( 0.9032258064516123  ;  0.8048780487804882 )\n",
      "62  ( 0.9032258064516123  ;  0.8292682926829272 )\n",
      "63  ( 0.9354838709677413  ;  0.8292682926829272 )\n",
      "64  ( 0.9354838709677413  ;  0.8536585365853663 )\n",
      "65  ( 0.9354838709677413  ;  0.8780487804878053 )\n",
      "66  ( 0.9354838709677413  ;  0.9024390243902444 )\n",
      "67  ( 0.9354838709677413  ;  0.9268292682926834 )\n",
      "68  ( 0.9354838709677413  ;  0.9512195121951225 )\n",
      "69  ( 0.9677419354838703  ;  0.9512195121951225 )\n",
      "70  ( 0.9999999999999993  ;  0.9512195121951225 )\n",
      "71  ( 0.9999999999999993  ;  0.9756097560975615 )\n",
      "72  ( 0.9999999999999993  ;  1.0000000000000004 )\n"
     ]
    },
    {
     "data": {
      "image/png": "[encoded data removed]",
      "text/plain": [
       "<Figure size 432x288 with 1 Axes>"
      ]
     },
     "metadata": {
      "needs_background": "light"
     },
     "output_type": "display_data"
    }
   ],
   "source": [
    "nx=len(xh)\n",
    "for i in range(0,nx):\n",
    "    print(i,' (',xh[i],\" ; \",f[i],')');\n",
    "    plt.plot(xh[i],f[i],color='red', linestyle='dashed', marker='o',\n",
    "         markerfacecolor='blue', markersize=5)"
   ]
  },
  {
   "cell_type": "markdown",
   "metadata": {},
   "source": [
    "## Roc кривая для Weight"
   ]
  },
  {
   "cell_type": "code",
   "execution_count": 133,
   "metadata": {},
   "outputs": [
    {
     "name": "stdout",
     "output_type": "stream",
     "text": [
      "[1] =  [0.26894142]\n",
      "[0] =  [0.5]\n",
      "[1] =  [0.26894142]\n",
      "[0] =  [0.5]\n",
      "[0] =  [0.5]\n",
      "[0] =  [0.5]\n",
      "[1] =  [0.26894142]\n",
      "[1] =  [0.26894142]\n",
      "[1] =  [0.26894142]\n",
      "[1] =  [0.26894142]\n",
      "[1] =  [0.26894142]\n",
      "[1] =  [0.26894142]\n",
      "[1] =  [0.26894142]\n",
      "[1] =  [0.26894142]\n",
      "[1] =  [0.26894142]\n",
      "[1] =  [0.26894142]\n",
      "[0] =  [0.5]\n",
      "[0] =  [0.5]\n",
      "[0] =  [0.5]\n",
      "[1] =  [0.26894142]\n",
      "[0] =  [0.5]\n",
      "[1] =  [0.26894142]\n",
      "[1] =  [0.26894142]\n",
      "[1] =  [0.26894142]\n",
      "[1] =  [0.26894142]\n",
      "[0] =  [0.5]\n",
      "[0] =  [0.5]\n",
      "[0] =  [0.5]\n",
      "[0] =  [0.5]\n",
      "[0] =  [0.5]\n",
      "[1] =  [0.26894142]\n",
      "[1] =  [0.26894142]\n",
      "[1] =  [0.26894142]\n",
      "[1] =  [0.26894142]\n",
      "[0] =  [0.5]\n",
      "[1] =  [0.26894142]\n",
      "[1] =  [0.26894142]\n",
      "[0] =  [0.5]\n",
      "[0] =  [0.5]\n",
      "[0] =  [0.5]\n",
      "[1] =  [0.26894142]\n",
      "[0] =  [0.5]\n",
      "[0] =  [0.5]\n",
      "[1] =  [0.26894142]\n",
      "[0] =  [0.5]\n",
      "[0] =  [0.5]\n",
      "[1] =  [0.26894142]\n",
      "[0] =  [0.5]\n",
      "[1] =  [0.26894142]\n",
      "[1] =  [0.26894142]\n",
      "[1] =  [0.26894142]\n",
      "[1] =  [0.26894142]\n",
      "[0] =  [0.5]\n",
      "[0] =  [0.5]\n",
      "[0] =  [0.5]\n",
      "[1] =  [0.26894142]\n",
      "[0] =  [0.5]\n",
      "[0] =  [0.5]\n",
      "[1] =  [0.26894142]\n",
      "[1] =  [0.26894142]\n",
      "[0] =  [0.5]\n",
      "[1] =  [0.26894142]\n",
      "[1] =  [0.26894142]\n",
      "[1] =  [0.26894142]\n",
      "[1] =  [0.26894142]\n",
      "[1] =  [0.26894142]\n",
      "[0] =  [0.5]\n",
      "[1] =  [0.26894142]\n",
      "[0] =  [0.5]\n",
      "[1] =  [0.26894142]\n",
      "[0] =  [0.5]\n",
      "[0] =  [0.5]\n"
     ]
    }
   ],
   "source": [
    "xh=np.array(x2_rg)\n",
    "yh=np.array(y1_rg)\n",
    "nx=len(xh)\n",
    "ny=len(yh)\n",
    "nx=len(xh)\n",
    "for i in range(0,nx):\n",
    "    print(yh[i],\"= \",sigm(yh[i]))"
   ]
  },
  {
   "cell_type": "code",
   "execution_count": 134,
   "metadata": {},
   "outputs": [
    {
     "name": "stdout",
     "output_type": "stream",
     "text": [
      "0  A=  0.024390243902439025\n",
      "1  B=  0.03225806451612903\n",
      "2  A=  0.04878048780487805\n",
      "3  B=  0.06451612903225806\n",
      "4  B=  0.0967741935483871\n",
      "5  B=  0.12903225806451613\n",
      "6  A=  0.07317073170731708\n",
      "7  A=  0.0975609756097561\n",
      "8  A=  0.12195121951219512\n",
      "9  A=  0.14634146341463414\n",
      "10  A=  0.17073170731707316\n",
      "11  A=  0.19512195121951217\n",
      "12  A=  0.2195121951219512\n",
      "13  A=  0.2439024390243902\n",
      "14  A=  0.26829268292682923\n",
      "15  A=  0.2926829268292683\n",
      "16  B=  0.16129032258064516\n",
      "17  B=  0.1935483870967742\n",
      "18  B=  0.22580645161290322\n",
      "19  A=  0.3170731707317073\n",
      "20  B=  0.25806451612903225\n",
      "21  A=  0.34146341463414637\n",
      "22  A=  0.3658536585365854\n",
      "23  A=  0.39024390243902446\n",
      "24  A=  0.4146341463414635\n",
      "25  B=  0.29032258064516125\n",
      "26  B=  0.32258064516129026\n",
      "27  B=  0.35483870967741926\n",
      "28  B=  0.38709677419354827\n",
      "29  B=  0.41935483870967727\n",
      "30  A=  0.43902439024390255\n",
      "31  A=  0.4634146341463416\n",
      "32  A=  0.48780487804878064\n",
      "33  A=  0.5121951219512196\n",
      "34  B=  0.4516129032258063\n",
      "35  A=  0.5365853658536587\n",
      "36  A=  0.5609756097560977\n",
      "37  B=  0.4838709677419353\n",
      "38  B=  0.5161290322580643\n",
      "39  B=  0.5483870967741933\n",
      "40  A=  0.5853658536585368\n",
      "41  B=  0.5806451612903223\n",
      "42  B=  0.6129032258064513\n",
      "43  A=  0.6097560975609758\n",
      "44  B=  0.6451612903225803\n",
      "45  B=  0.6774193548387093\n",
      "46  A=  0.6341463414634149\n",
      "47  B=  0.7096774193548383\n",
      "48  A=  0.6585365853658539\n",
      "49  A=  0.682926829268293\n",
      "50  A=  0.707317073170732\n",
      "51  A=  0.731707317073171\n",
      "52  B=  0.7419354838709673\n",
      "53  B=  0.7741935483870963\n",
      "54  B=  0.8064516129032253\n",
      "55  A=  0.7560975609756101\n",
      "56  B=  0.8387096774193543\n",
      "57  B=  0.8709677419354833\n",
      "58  A=  0.7804878048780491\n",
      "59  A=  0.8048780487804882\n",
      "60  B=  0.9032258064516123\n",
      "61  A=  0.8292682926829272\n",
      "62  A=  0.8536585365853663\n",
      "63  A=  0.8780487804878053\n",
      "64  A=  0.9024390243902444\n",
      "65  A=  0.9268292682926834\n",
      "66  B=  0.9354838709677413\n",
      "67  A=  0.9512195121951225\n",
      "68  B=  0.9677419354838703\n",
      "69  A=  0.9756097560975615\n",
      "70  B=  0.9999999999999993\n",
      "71  B=  1.0322580645161283\n",
      "\n",
      " TPR : [0, 0.024390243902439025, 0.04878048780487805, 0.07317073170731708, 0.0975609756097561, 0.12195121951219512, 0.14634146341463414, 0.17073170731707316, 0.19512195121951217, 0.2195121951219512, 0.2439024390243902, 0.26829268292682923, 0.2926829268292683, 0.3170731707317073, 0.34146341463414637, 0.3658536585365854, 0.39024390243902446, 0.4146341463414635, 0.43902439024390255, 0.4634146341463416, 0.48780487804878064, 0.5121951219512196, 0.5365853658536587, 0.5609756097560977, 0.5853658536585368, 0.6097560975609758, 0.6341463414634149, 0.6585365853658539, 0.682926829268293, 0.707317073170732, 0.731707317073171, 0.7560975609756101, 0.7804878048780491, 0.8048780487804882, 0.8292682926829272, 0.8536585365853663, 0.8780487804878053, 0.9024390243902444, 0.9268292682926834, 0.9512195121951225, 0.9756097560975615]\n",
      "\n",
      " FPR : [0, 0.03225806451612903, 0.06451612903225806, 0.0967741935483871, 0.12903225806451613, 0.16129032258064516, 0.1935483870967742, 0.22580645161290322, 0.25806451612903225, 0.29032258064516125, 0.32258064516129026, 0.35483870967741926, 0.38709677419354827, 0.41935483870967727, 0.4516129032258063, 0.4838709677419353, 0.5161290322580643, 0.5483870967741933, 0.5806451612903223, 0.6129032258064513, 0.6451612903225803, 0.6774193548387093, 0.7096774193548383, 0.7419354838709673, 0.7741935483870963, 0.8064516129032253, 0.8387096774193543, 0.8709677419354833, 0.9032258064516123, 0.9354838709677413, 0.9677419354838703, 0.9999999999999993, 1.0322580645161283]\n"
     ]
    }
   ],
   "source": [
    "A=[]\n",
    "B=[]\n",
    "a=0\n",
    "b=0\n",
    "A.append(a)\n",
    "B.append(b)\n",
    "for i in range(0,nx):\n",
    "    if(yh[i]==1): \n",
    "        a=a+1/j\n",
    "        A.append(a)\n",
    "        print(i,' A= ',a)\n",
    "    else:\n",
    "        b=b+1/k\n",
    "        B.append(b)\n",
    "        print(i,' B= ',b)\n",
    "print('\\n TPR :',A)\n",
    "print('\\n FPR :',B)"
   ]
  },
  {
   "cell_type": "code",
   "execution_count": 135,
   "metadata": {},
   "outputs": [
    {
     "name": "stdout",
     "output_type": "stream",
     "text": [
      "41 33\n"
     ]
    }
   ],
   "source": [
    "print(len(A),len(B))"
   ]
  },
  {
   "cell_type": "code",
   "execution_count": 136,
   "metadata": {},
   "outputs": [],
   "source": [
    "y=[A[1],A[1],A[2],A[2],A[2],A[2],A[3],A[4],A[5],A[6],A[7],A[8],A[9],A[10],A[11],A[12],\n",
    "  A[12],A[12],A[12],A[13],A[13],A[14],A[15],A[16],A[17],A[17],A[17],A[17],\n",
    "  A[17],A[17],A[18],A[19],A[20],A[21],A[21],A[22],A[23],A[23],A[23],A[23],\n",
    "  A[24],A[24],A[24],A[25],A[25],A[25],A[26],A[26],A[27],A[28],\n",
    "  A[29],A[30],A[30],A[30],A[30],A[31],A[31],A[31],A[32],\n",
    "  A[33],A[33],A[34],A[35],A[36],\n",
    "  A[37],A[38],A[38],A[39],A[39],A[40],A[40],A[40]]\n",
    "x=[B[0],B[1],B[1],B[2],B[3],B[4],B[4],B[4],B[4],B[4],B[4],B[4],B[4],B[4],B[4],B[4],\n",
    "  B[5],B[6],B[7],B[7],B[8],B[8],B[8],B[8],B[8],B[9],B[10],B[11],\n",
    "  B[12],B[13],B[13],B[13],B[13],B[13],B[14],B[14],B[14],B[15],B[16],B[17],\n",
    "  B[17],B[18],B[19],B[19],B[20],B[21],B[21],B[22],B[22],B[22],\n",
    "  B[22],B[22],B[23],B[24],B[25],B[25],B[26],B[27],B[27],\n",
    "  B[27],B[28],B[28],B[28],B[28],\n",
    "  B[28],B[28],B[29],B[29],B[30],B[30],B[31],B[32]]\n",
    "xh=array(x); f=array(y)"
   ]
  },
  {
   "cell_type": "code",
   "execution_count": 137,
   "metadata": {},
   "outputs": [
    {
     "name": "stdout",
     "output_type": "stream",
     "text": [
      "0  ( 0.0  ;  0.024390243902439025 )\n",
      "1  ( 0.03225806451612903  ;  0.024390243902439025 )\n",
      "2  ( 0.03225806451612903  ;  0.04878048780487805 )\n",
      "3  ( 0.06451612903225806  ;  0.04878048780487805 )\n",
      "4  ( 0.0967741935483871  ;  0.04878048780487805 )\n",
      "5  ( 0.12903225806451613  ;  0.04878048780487805 )\n",
      "6  ( 0.12903225806451613  ;  0.07317073170731708 )\n",
      "7  ( 0.12903225806451613  ;  0.0975609756097561 )\n",
      "8  ( 0.12903225806451613  ;  0.12195121951219512 )\n",
      "9  ( 0.12903225806451613  ;  0.14634146341463414 )\n",
      "10  ( 0.12903225806451613  ;  0.17073170731707316 )\n",
      "11  ( 0.12903225806451613  ;  0.19512195121951217 )\n",
      "12  ( 0.12903225806451613  ;  0.2195121951219512 )\n",
      "13  ( 0.12903225806451613  ;  0.2439024390243902 )\n",
      "14  ( 0.12903225806451613  ;  0.26829268292682923 )\n",
      "15  ( 0.12903225806451613  ;  0.2926829268292683 )\n",
      "16  ( 0.16129032258064516  ;  0.2926829268292683 )\n",
      "17  ( 0.1935483870967742  ;  0.2926829268292683 )\n",
      "18  ( 0.22580645161290322  ;  0.2926829268292683 )\n",
      "19  ( 0.22580645161290322  ;  0.3170731707317073 )\n",
      "20  ( 0.25806451612903225  ;  0.3170731707317073 )\n",
      "21  ( 0.25806451612903225  ;  0.34146341463414637 )\n",
      "22  ( 0.25806451612903225  ;  0.3658536585365854 )\n",
      "23  ( 0.25806451612903225  ;  0.39024390243902446 )\n",
      "24  ( 0.25806451612903225  ;  0.4146341463414635 )\n",
      "25  ( 0.29032258064516125  ;  0.4146341463414635 )\n",
      "26  ( 0.32258064516129026  ;  0.4146341463414635 )\n",
      "27  ( 0.35483870967741926  ;  0.4146341463414635 )\n",
      "28  ( 0.38709677419354827  ;  0.4146341463414635 )\n",
      "29  ( 0.41935483870967727  ;  0.4146341463414635 )\n",
      "30  ( 0.41935483870967727  ;  0.43902439024390255 )\n",
      "31  ( 0.41935483870967727  ;  0.4634146341463416 )\n",
      "32  ( 0.41935483870967727  ;  0.48780487804878064 )\n",
      "33  ( 0.41935483870967727  ;  0.5121951219512196 )\n",
      "34  ( 0.4516129032258063  ;  0.5121951219512196 )\n",
      "35  ( 0.4516129032258063  ;  0.5365853658536587 )\n",
      "36  ( 0.4516129032258063  ;  0.5609756097560977 )\n",
      "37  ( 0.4838709677419353  ;  0.5609756097560977 )\n",
      "38  ( 0.5161290322580643  ;  0.5609756097560977 )\n",
      "39  ( 0.5483870967741933  ;  0.5609756097560977 )\n",
      "40  ( 0.5483870967741933  ;  0.5853658536585368 )\n",
      "41  ( 0.5806451612903223  ;  0.5853658536585368 )\n",
      "42  ( 0.6129032258064513  ;  0.5853658536585368 )\n",
      "43  ( 0.6129032258064513  ;  0.6097560975609758 )\n",
      "44  ( 0.6451612903225803  ;  0.6097560975609758 )\n",
      "45  ( 0.6774193548387093  ;  0.6097560975609758 )\n",
      "46  ( 0.6774193548387093  ;  0.6341463414634149 )\n",
      "47  ( 0.7096774193548383  ;  0.6341463414634149 )\n",
      "48  ( 0.7096774193548383  ;  0.6585365853658539 )\n",
      "49  ( 0.7096774193548383  ;  0.682926829268293 )\n",
      "50  ( 0.7096774193548383  ;  0.707317073170732 )\n",
      "51  ( 0.7096774193548383  ;  0.731707317073171 )\n",
      "52  ( 0.7419354838709673  ;  0.731707317073171 )\n",
      "53  ( 0.7741935483870963  ;  0.731707317073171 )\n",
      "54  ( 0.8064516129032253  ;  0.731707317073171 )\n",
      "55  ( 0.8064516129032253  ;  0.7560975609756101 )\n",
      "56  ( 0.8387096774193543  ;  0.7560975609756101 )\n",
      "57  ( 0.8709677419354833  ;  0.7560975609756101 )\n",
      "58  ( 0.8709677419354833  ;  0.7804878048780491 )\n",
      "59  ( 0.8709677419354833  ;  0.8048780487804882 )\n",
      "60  ( 0.9032258064516123  ;  0.8048780487804882 )\n",
      "61  ( 0.9032258064516123  ;  0.8292682926829272 )\n",
      "62  ( 0.9032258064516123  ;  0.8536585365853663 )\n",
      "63  ( 0.9032258064516123  ;  0.8780487804878053 )\n",
      "64  ( 0.9032258064516123  ;  0.9024390243902444 )\n",
      "65  ( 0.9032258064516123  ;  0.9268292682926834 )\n",
      "66  ( 0.9354838709677413  ;  0.9268292682926834 )\n",
      "67  ( 0.9354838709677413  ;  0.9512195121951225 )\n",
      "68  ( 0.9677419354838703  ;  0.9512195121951225 )\n",
      "69  ( 0.9677419354838703  ;  0.9756097560975615 )\n",
      "70  ( 0.9999999999999993  ;  0.9756097560975615 )\n",
      "71  ( 1.0322580645161283  ;  0.9756097560975615 )\n"
     ]
    },
    {
     "data": {
      "image/png": "[encoded data removed]",
      "text/plain": [
       "<Figure size 432x288 with 1 Axes>"
      ]
     },
     "metadata": {
      "needs_background": "light"
     },
     "output_type": "display_data"
    }
   ],
   "source": [
    "nx=len(xh)\n",
    "for i in range(0,nx):\n",
    "    print(i,' (',xh[i],\" ; \",f[i],')');\n",
    "    plt.plot(xh[i],f[i],color='red', linestyle='dashed', marker='o',\n",
    "         markerfacecolor='blue', markersize=5)"
   ]
  },
  {
   "cell_type": "code",
   "execution_count": null,
   "metadata": {},
   "outputs": [],
   "source": []
  },
  {
   "cell_type": "code",
   "execution_count": null,
   "metadata": {},
   "outputs": [],
   "source": []
  },
  {
   "cell_type": "code",
   "execution_count": null,
   "metadata": {},
   "outputs": [],
   "source": []
  }
 ],
 "metadata": {
  "kernelspec": {
   "display_name": "Python 3",
   "language": "python",
   "name": "python3"
  },
  "language_info": {
   "codemirror_mode": {
    "name": "ipython",
    "version": 3
   },
   "file_extension": ".py",
   "mimetype": "text/x-python",
   "name": "python",
   "nbconvert_exporter": "python",
   "pygments_lexer": "ipython3",
   "version": "3.8.8"
  }
 },
 "nbformat": 4,
 "nbformat_minor": 2
}
