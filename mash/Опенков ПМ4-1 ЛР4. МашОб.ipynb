{
  "cells": [
    {
      "cell_type": "markdown",
      "metadata": {
        "id": "Y_wAcArM-9tL"
      },
      "source": [
        "# Лабораторная работа № 4. Нейронные сети\n",
        "\n",
        "Постройте нейросетевой классификатор для набора данных [MNIST](https://www.kaggle.com/c/digit-recognizer).\n",
        "\n",
        "## Задание\n",
        "\n",
        "1. Постройте двуслойную нейронную сеть.\n",
        "2. Постройте отчет по классификации  [classification_report](http://scikit-learn.org/stable/modules/generated/sklearn.metrics.classification_report.html) и матрицу ошибок [confusion_matrix](http://scikit-learn.org/stable/auto_examples/model_selection/plot_confusion_matrix.html#sphx-glr-auto-examples-model-selection-plot-confusion-matrix-py)\n",
        "3. Добавьте скрытые слои и оцените как изменится качество классификации."
      ]
    },
    {
      "cell_type": "markdown",
      "metadata": {
        "collapsed": true,
        "id": "3lnW16bG-9tV"
      },
      "source": [
        "## Начало работы"
      ]
    },
    {
      "cell_type": "code",
      "execution_count": 66,
      "metadata": {
        "id": "UP1ry1ZI-9tX"
      },
      "outputs": [],
      "source": [
        "import numpy as np\n",
        "import pandas as pd\n",
        "import matplotlib.pyplot as plt\n",
        "import seaborn as sns\n",
        "%matplotlib inline\n",
        "from tensorflow import keras\n",
        "from tensorflow.keras.layers import Dense"
      ]
    },
    {
      "cell_type": "code",
      "source": [
        "from keras.models import Model\n",
        "from keras.layers import Input\n",
        "visible = Input(shape=(784,), name ='Input_784')\n",
        "hidden = Dense(300, activation = 'relu', name ='Dense_300')(visible)\n",
        "output = Dense(10, activation = 'softmax', name ='Dense_10')(hidden)\n",
        "model_1 = Model(inputs=visible, outputs=output)\n",
        "model_1.summary()"
      ],
      "metadata": {
        "colab": {
          "base_uri": "https://localhost:8080/"
        },
        "id": "8FdCagWgFLEZ",
        "outputId": "6de40cd8-238d-4e82-c0e7-a8548c912fb0"
      },
      "execution_count": 55,
      "outputs": [
        {
          "output_type": "stream",
          "name": "stdout",
          "text": [
            "Model: \"model\"\n",
            "_________________________________________________________________\n",
            " Layer (type)                Output Shape              Param #   \n",
            "=================================================================\n",
            " Input_784 (InputLayer)      [(None, 784)]             0         \n",
            "                                                                 \n",
            " Dense_300 (Dense)           (None, 300)               235500    \n",
            "                                                                 \n",
            " Dense_10 (Dense)            (None, 10)                3010      \n",
            "                                                                 \n",
            "=================================================================\n",
            "Total params: 238,510\n",
            "Trainable params: 238,510\n",
            "Non-trainable params: 0\n",
            "_________________________________________________________________\n"
          ]
        }
      ]
    },
    {
      "cell_type": "code",
      "source": [
        "model.compile(optimizer='adam', loss='categorical_crossentropy', metrics=['accuracy'])"
      ],
      "metadata": {
        "id": "ybRxPPaoVgqp"
      },
      "execution_count": 56,
      "outputs": []
    },
    {
      "cell_type": "code",
      "source": [
        "from keras.datasets import mnist\n",
        "from keras import utils\n",
        "(x_train, y_train), (x_test, y_test) = mnist.load_data()"
      ],
      "metadata": {
        "colab": {
          "base_uri": "https://localhost:8080/"
        },
        "id": "zrrM0_HJFLLf",
        "outputId": "6cb2d7e1-1f9c-46bd-c2f8-9be8f566851d"
      },
      "execution_count": 57,
      "outputs": [
        {
          "output_type": "stream",
          "name": "stdout",
          "text": [
            "Downloading data from https://storage.googleapis.com/tensorflow/tf-keras-datasets/mnist.npz\n",
            "11493376/11490434 [==============================] - 0s 0us/step\n",
            "11501568/11490434 [==============================] - 0s 0us/step\n"
          ]
        }
      ]
    },
    {
      "cell_type": "code",
      "source": [
        "from tensorflow.keras.utils import to_categorical"
      ],
      "metadata": {
        "id": "pQhN1-2qXPtm"
      },
      "execution_count": 59,
      "outputs": []
    },
    {
      "cell_type": "code",
      "source": [
        "x_train = x_train.astype('float32')\n",
        "x_train /= 255\n",
        "x_train = x_train.reshape(-1, 784)\n",
        "x_test = x_test.astype('float32')\n",
        "x_test /= 255\n",
        "x_test = x_test.reshape(-1, 784)\n",
        "y_train_ohe =to_categorical(y_train, 10)\n",
        "y_test_ohe = to_categorical(y_test, 10)\n",
        "print(y_train[0], y_train_ohe[0])"
      ],
      "metadata": {
        "colab": {
          "base_uri": "https://localhost:8080/"
        },
        "id": "ypjV9E4yFLO3",
        "outputId": "3a718cb0-fc39-4864-8ce9-970fb7c20fa9"
      },
      "execution_count": 61,
      "outputs": [
        {
          "output_type": "stream",
          "name": "stdout",
          "text": [
            "5 [0. 0. 0. 0. 0. 1. 0. 0. 0. 0.]\n"
          ]
        }
      ]
    },
    {
      "cell_type": "code",
      "source": [
        "model.fit(x_train, y_train_ohe, batch_size=128, epochs=12, verbose=1, validation_split=0.2)"
      ],
      "metadata": {
        "colab": {
          "base_uri": "https://localhost:8080/"
        },
        "id": "LMUQa5WLWEpQ",
        "outputId": "49191393-630c-4aab-9e7f-99b5106d3d6c"
      },
      "execution_count": 64,
      "outputs": [
        {
          "output_type": "stream",
          "name": "stdout",
          "text": [
            "Epoch 1/12\n",
            "375/375 [==============================] - 1s 3ms/step - loss: 2.2997 - accuracy: 0.1145 - val_loss: 2.3007 - val_accuracy: 0.1060\n",
            "Epoch 2/12\n",
            "375/375 [==============================] - 1s 3ms/step - loss: 2.3000 - accuracy: 0.1156 - val_loss: 2.3001 - val_accuracy: 0.1060\n",
            "Epoch 3/12\n",
            "375/375 [==============================] - 1s 3ms/step - loss: 2.2999 - accuracy: 0.1146 - val_loss: 2.3002 - val_accuracy: 0.1060\n",
            "Epoch 4/12\n",
            "375/375 [==============================] - 1s 3ms/step - loss: 2.2997 - accuracy: 0.1147 - val_loss: 2.3006 - val_accuracy: 0.1035\n",
            "Epoch 5/12\n",
            "375/375 [==============================] - 1s 3ms/step - loss: 2.2995 - accuracy: 0.1177 - val_loss: 2.3013 - val_accuracy: 0.1060\n",
            "Epoch 6/12\n",
            "375/375 [==============================] - 1s 3ms/step - loss: 2.2996 - accuracy: 0.1134 - val_loss: 2.3022 - val_accuracy: 0.1060\n",
            "Epoch 7/12\n",
            "375/375 [==============================] - 1s 3ms/step - loss: 2.2994 - accuracy: 0.1173 - val_loss: 2.3002 - val_accuracy: 0.1060\n",
            "Epoch 8/12\n",
            "375/375 [==============================] - 1s 3ms/step - loss: 2.2994 - accuracy: 0.1131 - val_loss: 2.3003 - val_accuracy: 0.1060\n",
            "Epoch 9/12\n",
            "375/375 [==============================] - 1s 3ms/step - loss: 2.2994 - accuracy: 0.1178 - val_loss: 2.2996 - val_accuracy: 0.1060\n",
            "Epoch 10/12\n",
            "375/375 [==============================] - 1s 3ms/step - loss: 2.2991 - accuracy: 0.1135 - val_loss: 2.2991 - val_accuracy: 0.1060\n",
            "Epoch 11/12\n",
            "375/375 [==============================] - 1s 3ms/step - loss: 2.2994 - accuracy: 0.1158 - val_loss: 2.2992 - val_accuracy: 0.1060\n",
            "Epoch 12/12\n",
            "375/375 [==============================] - 1s 3ms/step - loss: 2.2990 - accuracy: 0.1206 - val_loss: 2.3014 - val_accuracy: 0.1060\n"
          ]
        },
        {
          "output_type": "execute_result",
          "data": {
            "text/plain": [
              "<keras.callbacks.History at 0x7f3770723e10>"
            ]
          },
          "metadata": {},
          "execution_count": 64
        }
      ]
    },
    {
      "cell_type": "markdown",
      "source": [
        "Точность"
      ],
      "metadata": {
        "id": "1IlOXfr4ZUdf"
      }
    },
    {
      "cell_type": "code",
      "source": [
        "accuracy = model.evaluate(x_test, y_test_ohe)\n",
        "print(\"Loss:\", accuracy[0])\n",
        "print(\"Accuracy:\", accuracy[1])"
      ],
      "metadata": {
        "colab": {
          "base_uri": "https://localhost:8080/"
        },
        "id": "7Ol4hI4lYWHH",
        "outputId": "2a3f4a14-a4ed-40b3-d1ce-1c15f3ee5117"
      },
      "execution_count": 65,
      "outputs": [
        {
          "output_type": "stream",
          "name": "stdout",
          "text": [
            "313/313 [==============================] - 0s 1ms/step - loss: 2.2989 - accuracy: 0.1135\n",
            "Loss: 2.2989439964294434\n",
            "Accuracy: 0.11349999904632568\n"
          ]
        }
      ]
    },
    {
      "cell_type": "markdown",
      "source": [
        "В сравнении с другими методами обучения, система обучения нейронной сети показала результат в 11%. Что на 70% меньше, чем метод соседей или логистической регрессии. \n",
        "Тест проведен на GOOGLE COLAB, который не использует GPU. Хотя скорость прохождения одной эпохи в 1 секунду не очень плохая.\n",
        " "
      ],
      "metadata": {
        "id": "-foq4B7Vn1hs"
      }
    },
    {
      "cell_type": "code",
      "source": [
        ""
      ],
      "metadata": {
        "id": "lwhg7UWnn0Zu"
      },
      "execution_count": null,
      "outputs": []
    },
    {
      "cell_type": "code",
      "source": [
        ""
      ],
      "metadata": {
        "id": "4UXwuf8qZrel"
      },
      "execution_count": null,
      "outputs": []
    },
    {
      "cell_type": "code",
      "source": [
        ""
      ],
      "metadata": {
        "id": "_tZoLMAFZrjn"
      },
      "execution_count": null,
      "outputs": []
    },
    {
      "cell_type": "code",
      "source": [
        ""
      ],
      "metadata": {
        "id": "L64BCkN3Zrnp"
      },
      "execution_count": null,
      "outputs": []
    }
  ],
  "metadata": {
    "kernelspec": {
      "display_name": "Python 3",
      "language": "python",
      "name": "python3"
    },
    "language_info": {
      "codemirror_mode": {
        "name": "ipython",
        "version": 3
      },
      "file_extension": ".py",
      "mimetype": "text/x-python",
      "name": "python",
      "nbconvert_exporter": "python",
      "pygments_lexer": "ipython3",
      "version": "3.8.8"
    },
    "colab": {
      "name": "промежуток 2.ipynb",
      "provenance": []
    }
  },
  "nbformat": 4,
  "nbformat_minor": 0
}