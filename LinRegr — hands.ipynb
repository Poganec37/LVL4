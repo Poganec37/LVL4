{
 "cells": [
  {
   "cell_type": "markdown",
   "metadata": {},
   "source": [
    "# Практика № 1. Линейная регрессия\n",
    "\n",
    "На основе набора данных об измерениях роста и веса решите следующую задачу.\n",
    "\n",
    "Обучите модель линейной регрессии оценивать  вес человека. Для начала постройте одномерную модель, где в качестве единственного признака будет только вес, который человек сообщил о себе сам. Для обучения линейной модели используейте класс из библиотеки scikit-learn - [LinearRegression](http://scikit-learn.org/stable/modules/generated/sklearn.linear_model.LinearRegression.html)\n",
    "\n",
    "Файл с данными - [Davis.csv](https://github.com/sdukshis/ml-intro/blob/master/datasets/Davis.csv)\n",
    "\n",
    "Расширьте набор признаков добавив данные об измеренном и сообщенном весе, а также данные об поле человека.\n",
    "\n",
    "Обратите внимание, что в некоторых строках встречаются пропуски. Это обычная ситуация при работе с реальными данными. Эти пропуски необходиму убрать из таблицы вместе со всей строкой. Это можно сделать с помощью метода [pandas.DataFrame.dropna](https://pandas.pydata.org/pandas-docs/stable/generated/pandas.DataFrame.dropna.html)"
   ]
  },
  {
   "cell_type": "code",
   "execution_count": 1,
   "metadata": {},
   "outputs": [
    {
     "name": "stdout",
     "output_type": "stream",
     "text": [
      "Populating the interactive namespace from numpy and matplotlib\n"
     ]
    }
   ],
   "source": [
    "import pandas as pd\n",
    "%pylab inline"
   ]
  },
  {
   "cell_type": "code",
   "execution_count": 2,
   "metadata": {},
   "outputs": [
    {
     "data": {
      "text/html": [
       "<div>\n",
       "<style scoped>\n",
       "    .dataframe tbody tr th:only-of-type {\n",
       "        vertical-align: middle;\n",
       "    }\n",
       "\n",
       "    .dataframe tbody tr th {\n",
       "        vertical-align: top;\n",
       "    }\n",
       "\n",
       "    .dataframe thead th {\n",
       "        text-align: right;\n",
       "    }\n",
       "</style>\n",
       "<table border=\"1\" class=\"dataframe\">\n",
       "  <thead>\n",
       "    <tr style=\"text-align: right;\">\n",
       "      <th></th>\n",
       "      <th>sex</th>\n",
       "      <th>weight</th>\n",
       "      <th>height</th>\n",
       "      <th>repwt</th>\n",
       "      <th>repht</th>\n",
       "    </tr>\n",
       "  </thead>\n",
       "  <tbody>\n",
       "    <tr>\n",
       "      <th>1</th>\n",
       "      <td>M</td>\n",
       "      <td>77</td>\n",
       "      <td>182</td>\n",
       "      <td>77.0</td>\n",
       "      <td>180.0</td>\n",
       "    </tr>\n",
       "    <tr>\n",
       "      <th>2</th>\n",
       "      <td>F</td>\n",
       "      <td>58</td>\n",
       "      <td>161</td>\n",
       "      <td>51.0</td>\n",
       "      <td>159.0</td>\n",
       "    </tr>\n",
       "    <tr>\n",
       "      <th>3</th>\n",
       "      <td>F</td>\n",
       "      <td>53</td>\n",
       "      <td>161</td>\n",
       "      <td>54.0</td>\n",
       "      <td>158.0</td>\n",
       "    </tr>\n",
       "    <tr>\n",
       "      <th>4</th>\n",
       "      <td>M</td>\n",
       "      <td>68</td>\n",
       "      <td>177</td>\n",
       "      <td>70.0</td>\n",
       "      <td>175.0</td>\n",
       "    </tr>\n",
       "    <tr>\n",
       "      <th>5</th>\n",
       "      <td>F</td>\n",
       "      <td>59</td>\n",
       "      <td>157</td>\n",
       "      <td>59.0</td>\n",
       "      <td>155.0</td>\n",
       "    </tr>\n",
       "  </tbody>\n",
       "</table>\n",
       "</div>"
      ],
      "text/plain": [
       "  sex  weight  height  repwt  repht\n",
       "1   M      77     182   77.0  180.0\n",
       "2   F      58     161   51.0  159.0\n",
       "3   F      53     161   54.0  158.0\n",
       "4   M      68     177   70.0  175.0\n",
       "5   F      59     157   59.0  155.0"
      ]
     },
     "execution_count": 2,
     "metadata": {},
     "output_type": "execute_result"
    }
   ],
   "source": [
    "ds = pd.read_csv('https://raw.githubusercontent.com/sdukshis/ml-intro/master/datasets/Davis.csv', index_col=0)\n",
    "ds.head()"
   ]
  },
  {
   "cell_type": "code",
   "execution_count": 3,
   "metadata": {},
   "outputs": [],
   "source": [
    "from sklearn.linear_model import LinearRegression"
   ]
  },
  {
   "cell_type": "code",
   "execution_count": 4,
   "metadata": {},
   "outputs": [],
   "source": [
    "import matplotlib.pyplot as plt\n",
    "U=ds.dropna()"
   ]
  },
  {
   "cell_type": "code",
   "execution_count": 5,
   "metadata": {},
   "outputs": [
    {
     "data": {
      "text/html": [
       "<div>\n",
       "<style scoped>\n",
       "    .dataframe tbody tr th:only-of-type {\n",
       "        vertical-align: middle;\n",
       "    }\n",
       "\n",
       "    .dataframe tbody tr th {\n",
       "        vertical-align: top;\n",
       "    }\n",
       "\n",
       "    .dataframe thead th {\n",
       "        text-align: right;\n",
       "    }\n",
       "</style>\n",
       "<table border=\"1\" class=\"dataframe\">\n",
       "  <thead>\n",
       "    <tr style=\"text-align: right;\">\n",
       "      <th></th>\n",
       "      <th>weight</th>\n",
       "      <th>height</th>\n",
       "      <th>repwt</th>\n",
       "      <th>repht</th>\n",
       "    </tr>\n",
       "  </thead>\n",
       "  <tbody>\n",
       "    <tr>\n",
       "      <th>count</th>\n",
       "      <td>181.000000</td>\n",
       "      <td>181.000000</td>\n",
       "      <td>181.000000</td>\n",
       "      <td>181.000000</td>\n",
       "    </tr>\n",
       "    <tr>\n",
       "      <th>mean</th>\n",
       "      <td>65.701657</td>\n",
       "      <td>170.756906</td>\n",
       "      <td>65.679558</td>\n",
       "      <td>168.657459</td>\n",
       "    </tr>\n",
       "    <tr>\n",
       "      <th>std</th>\n",
       "      <td>13.425492</td>\n",
       "      <td>8.954609</td>\n",
       "      <td>13.834220</td>\n",
       "      <td>9.394668</td>\n",
       "    </tr>\n",
       "    <tr>\n",
       "      <th>min</th>\n",
       "      <td>39.000000</td>\n",
       "      <td>148.000000</td>\n",
       "      <td>41.000000</td>\n",
       "      <td>148.000000</td>\n",
       "    </tr>\n",
       "    <tr>\n",
       "      <th>25%</th>\n",
       "      <td>56.000000</td>\n",
       "      <td>164.000000</td>\n",
       "      <td>55.000000</td>\n",
       "      <td>161.000000</td>\n",
       "    </tr>\n",
       "    <tr>\n",
       "      <th>50%</th>\n",
       "      <td>63.000000</td>\n",
       "      <td>169.000000</td>\n",
       "      <td>63.000000</td>\n",
       "      <td>168.000000</td>\n",
       "    </tr>\n",
       "    <tr>\n",
       "      <th>75%</th>\n",
       "      <td>74.000000</td>\n",
       "      <td>178.000000</td>\n",
       "      <td>74.000000</td>\n",
       "      <td>175.000000</td>\n",
       "    </tr>\n",
       "    <tr>\n",
       "      <th>max</th>\n",
       "      <td>119.000000</td>\n",
       "      <td>197.000000</td>\n",
       "      <td>124.000000</td>\n",
       "      <td>200.000000</td>\n",
       "    </tr>\n",
       "  </tbody>\n",
       "</table>\n",
       "</div>"
      ],
      "text/plain": [
       "           weight      height       repwt       repht\n",
       "count  181.000000  181.000000  181.000000  181.000000\n",
       "mean    65.701657  170.756906   65.679558  168.657459\n",
       "std     13.425492    8.954609   13.834220    9.394668\n",
       "min     39.000000  148.000000   41.000000  148.000000\n",
       "25%     56.000000  164.000000   55.000000  161.000000\n",
       "50%     63.000000  169.000000   63.000000  168.000000\n",
       "75%     74.000000  178.000000   74.000000  175.000000\n",
       "max    119.000000  197.000000  124.000000  200.000000"
      ]
     },
     "execution_count": 5,
     "metadata": {},
     "output_type": "execute_result"
    }
   ],
   "source": [
    "U.describe()"
   ]
  },
  {
   "cell_type": "code",
   "execution_count": 6,
   "metadata": {},
   "outputs": [],
   "source": [
    "m=U[U.sex==\"M\"]\n",
    "f=U[U.sex==\"F\"]"
   ]
  },
  {
   "cell_type": "code",
   "execution_count": 7,
   "metadata": {},
   "outputs": [
    {
     "data": {
      "text/plain": [
       "(36.0, 125.0)"
      ]
     },
     "execution_count": 7,
     "metadata": {},
     "output_type": "execute_result"
    },
    {
     "data": {
      "image/png": "[encoded data removed]",
      "text/plain": [
       "<Figure size 720x432 with 1 Axes>"
      ]
     },
     "metadata": {
      "needs_background": "light"
     },
     "output_type": "display_data"
    }
   ],
   "source": [
    "plt.figure(figsize=(10,6))\n",
    "plt.scatter(m.weight,m.repwt,alpha=0.45,color='green')\n",
    "plt.scatter(f.weight,f.repwt,alpha=0.4,color='pink')\n",
    "plt.xlabel(\"Weight\")\n",
    "plt.ylabel(\"Repwt\")\n",
    "plt.ylim(36,130)\n",
    "plt.xlim(36,125)"
   ]
  },
  {
   "cell_type": "code",
   "execution_count": 8,
   "metadata": {},
   "outputs": [],
   "source": [
    "# Выборка на обучение\n",
    "x=pd.DataFrame(U.weight)\n",
    "y=pd.DataFrame(U.repwt)"
   ]
  },
  {
   "cell_type": "code",
   "execution_count": 9,
   "metadata": {},
   "outputs": [],
   "source": [
    "import math\n",
    "import numpy as np"
   ]
  },
  {
   "cell_type": "code",
   "execution_count": 10,
   "metadata": {},
   "outputs": [
    {
     "name": "stdout",
     "output_type": "stream",
     "text": [
      "Leng(X)=  181 Leng(Y)=  181\n"
     ]
    }
   ],
   "source": [
    "xh=np.array(x)\n",
    "yh=np.array(y)\n",
    "nx=len(xh)\n",
    "ny=len(yh)\n",
    "print(\"Leng(X)= \",nx, \"Leng(Y)= \",ny)"
   ]
  },
  {
   "cell_type": "code",
   "execution_count": 11,
   "metadata": {},
   "outputs": [
    {
     "name": "stdout",
     "output_type": "stream",
     "text": [
      "Шаг  0\n",
      "Grad(  -0.35740331491712707 ,  -56.04198895027624 ) \n",
      "A=  -0.98 B=  -0.6 L(A,B)=  46.240840883977896\n",
      "G=  56.04312859425674\n",
      "Шаг  1\n",
      "Grad(  0.254153940661152 ,  40.57625774549006 ) \n",
      "A=  -0.9621298342541437 ; B=  2.2020994475138123 ; L(A,B)=  23.38310965040044\n",
      "Условие:  40.5770536985375\n",
      "Шаг  2\n",
      "Grad(  -0.1886331471612756 ,  -29.378555677052322 ) \n",
      "A=  -0.9748375312872013 ; B=  0.17328656023930922 ; L(A,B)=  12.880852043284222\n",
      "Условие:  29.37916125647346\n",
      "Шаг  3\n",
      "Grad(  0.13196002019152753 ,  21.271048184959703 ) \n",
      "A=  -0.9654058739291376 ; B=  1.6422143440919255 ; L(A,B)=  6.303667788279306\n",
      "Условие:  21.271457503749158\n",
      "Шаг  4\n",
      "Grad(  -0.10015942271344594 ,  -15.400944003530212 ) \n",
      "A=  -0.972003874938714 ; B=  0.5786619348439404 ; L(A,B)=  3.6315514049012516\n",
      "Условие:  15.401269691484252\n",
      "Шаг  5\n",
      "Grad(  0.06790338608511765 ,  11.150793987086377 ) \n",
      "A=  -0.9669959038030417 ; B=  1.348709135020451 ; L(A,B)=  1.6691348827404864\n",
      "Условие:  11.151000735910815\n",
      "Шаг  6\n",
      "Grad(  -0.05377902114774273 ,  -8.07354448623022 ) \n",
      "A=  -0.9703910731072976 ; B=  0.7911694356661321 ; L(A,B)=  1.0469702878505884\n",
      "Условие:  8.073723599074594\n",
      "Шаг  7\n",
      "Grad(  0.0343237127518892 ,  5.845513839339616 ) \n",
      "A=  -0.9677021220499105 ; B=  1.194846659977643 ; L(A,B)=  0.4264784470608609\n",
      "Условие:  5.845614609531495\n",
      "Шаг  8\n",
      "Grad(  -0.02946494982001433 ,  -4.232345793621311 ) \n",
      "A=  -0.9694183076875049 ; B=  0.9025709680106622 ; L(A,B)=  0.3142823429783385\n",
      "Условие:  4.232448357635555\n",
      "Шаг  9\n",
      "Grad(  0.016720793639364594 ,  3.064358653337419 ) \n",
      "A=  -0.9679450601965042 ; B=  1.1141882576917277 ; L(A,B)=  0.101209748254738\n",
      "Условие:  3.064404271832268\n",
      "Шаг  10\n",
      "Grad(  -0.016718578516339223 ,  -2.2186972459661303 ) \n",
      "A=  -0.9687810998784724 ; B=  0.9609703250248567 ; L(A,B)=  0.10118293407373377\n",
      "Условие:  2.2187602349342073\n",
      "Шаг  11\n",
      "Grad(  0.00749327245187082 ,  1.606410354054486 ) \n",
      "A=  -0.9679451709526554 ; B=  1.0719051873231633 ; L(A,B)=  0.020325985797743737\n",
      "Условие:  1.6064278305437494\n",
      "Шаг  12\n",
      "Grad(  -0.010036273299891074 ,  -1.163094347507402 ) \n",
      "A=  -0.968319834575249 ; B=  0.991584669620439 ; L(A,B)=  0.036463094993538545\n",
      "Условие:  1.1631376479099194\n",
      "Шаг  13\n",
      "Grad(  0.0026563357783388614 ,  0.8421188632090894 ) \n",
      "A=  -0.9678180209102544 ; B=  1.0497393869958092 ; L(A,B)=  0.002554315355756491\n",
      "Условие:  0.8421230527021192\n",
      "Шаг  14\n",
      "Grad(  -0.00653289716769655 ,  -0.6097219725058107 ) \n",
      "A=  -0.9679508376991713 ; B=  1.0076334438353547 ; L(A,B)=  0.015449705836138536\n",
      "Условие:  0.6097569700313235\n",
      "Шаг  15\n",
      "Grad(  0.00012104878881267407 ,  0.4414589198723053 ) \n",
      "A=  -0.9676241928407865 ; B=  1.0381195424606453 ; L(A,B)=  5.304316956831563e-06\n",
      "Условие:  0.44145893646819717\n",
      "Шаг  16\n",
      "Grad(  -0.004695992056311763 ,  -0.3196308919848949 ) \n",
      "A=  -0.9676302452802271 ; B=  1.01604659646703 ; L(A,B)=  0.00798294758424543\n",
      "Условие:  0.3196653866974848\n",
      "Шаг  17\n",
      "Grad(  -0.0012076582912754301 ,  0.23142336129624894 ) \n",
      "A=  -0.9673954456774115 ; B=  1.0320281410662748 ; L(A,B)=  0.0005279547545520376\n",
      "Условие:  0.23142651229321728\n",
      "Шаг  18\n",
      "Grad(  -0.0037326911481970226 ,  -0.16755818507112585 ) \n",
      "A=  -0.9673350627628478 ; B=  1.0204569730014623 ; L(A,B)=  0.005043739921233883\n",
      "Условие:  0.16759975646622371\n",
      "Шаг  19\n",
      "Grad(  -0.0019038473206048697 ,  0.12131768040647264 ) \n",
      "A=  -0.9671484282054379 ; B=  1.0288348822550186 ; L(A,B)=  0.0013121177325031116\n",
      "Условие:  0.12133261809516521\n",
      "Шаг  20\n",
      "Grad(  -0.003227354627896395 ,  -0.08783802219485405 ) \n",
      "A=  -0.9670532358394076 ; B=  1.022768998234695 ; L(A,B)=  0.003770526077701949\n",
      "Условие:  0.0878972921141367\n",
      "Шаг  21\n",
      "Grad(  -0.0022684553035840754 ,  0.06359763982671723 ) \n",
      "A=  -0.9668918681080128 ; B=  1.0271608993444377 ; L(A,B)=  0.0018628119860978566\n",
      "Условие:  0.06363808357417128\n",
      "Шаг  22\n",
      "Grad(  -0.0029620941283088243 ,  -0.04604679944359757 ) \n",
      "A=  -0.9667784453428335 ; B=  1.0239810173531019 ; L(A,B)=  0.0031761885882361043\n",
      "Условие:  0.04614197374001094\n",
      "Шаг  23\n",
      "Grad(  -0.002459240640715927 ,  0.033339409210399545 ) \n",
      "A=  -0.9666303406364181 ; B=  1.0262833573252816 ; L(A,B)=  0.002189326959479496\n",
      "Условие:  0.033429987601365084\n",
      "Шаг  24\n",
      "Grad(  -0.002822687337812718 ,  -0.024138837442111875 ) \n",
      "A=  -0.9665073786043823 ; B=  1.0246163868647618 ; L(A,B)=  0.0028842580981514655\n",
      "Условие:  0.02430331328983253\n",
      "Шаг  25\n",
      "Grad(  -0.0025589040718921718 ,  0.017477318490552698 ) \n",
      "A=  -0.9663662442374916 ; B=  1.0258233287368674 ; L(A,B)=  0.0023703723977909746\n",
      "Условие:  0.01766365340662462\n",
      "Шаг  26\n",
      "Grad(  -0.002749256179168665 ,  -0.012654157945785274 ) \n",
      "A=  -0.966238299033897 ; B=  1.02494946281234 ; L(A,B)=  0.002736144253008345\n",
      "Условие:  0.012949367662383275\n",
      "Шаг  27\n",
      "Grad(  -0.0026107993098459796 ,  0.009162029827598542 ) \n",
      "A=  -0.9661008362249386 ; B=  1.025582170709629 ; L(A,B)=  0.0024674908391377924\n",
      "Условие:  0.00952675514527888\n",
      "Шаг  28\n",
      "Grad(  -0.002710411127120917 ,  -0.006633613308883735 ) \n",
      "A=  -0.9659702962594463 ; B=  1.025124069218249 ; L(A,B)=  0.002659370909043558\n",
      "Условие:  0.007165971951509459\n",
      "Шаг  29\n",
      "Grad(  -0.0026376534113020135 ,  0.004802955934415545 ) \n",
      "A=  -0.9658347757030903 ; B=  1.0254557498836931 ; L(A,B)=  0.0025185120175714396\n",
      "Условие:  0.005479562138172233\n",
      "Шаг  30\n",
      "Grad(  -0.0026896970391207644 ,  -0.0034774993105327777 ) \n",
      "A=  -0.9657028930325252 ; B=  1.0252156020869723 ; L(A,B)=  0.0026188781987363124\n",
      "Условие:  0.004396302038874371\n"
     ]
    }
   ],
   "source": [
    "A=-0.98\n",
    "B=-0.6\n",
    "k=0\n",
    "n=len(xh)\n",
    "for i in range(0,nx):\n",
    "    h=A+B*xh[i]\n",
    "    R=np.sum((h-yh[i])**2)\n",
    "    g1=np.sum(A+B*xh[i]-yh[i])\n",
    "    g2=np.sum(2*B*(xh[i]**2)-2*xh[i]*yh[i])\n",
    "print(\"Шаг \",k)\n",
    "L=(1/(2*n))*R\n",
    "gr1=(1/(2*n))*g1\n",
    "gr2=(1/(2*n))*g2\n",
    "print(\"Grad( \",gr1,\", \",gr2,\") \")\n",
    "G=math.sqrt((gr1**2)+(gr2**2))\n",
    "print(\"A= \",A,\"B= \",B,\"L(A,B)= \",L)\n",
    "print(\"G= \",G)\n",
    "t=0.05\n",
    "E=0.005\n",
    "while G>E:\n",
    "    k=k+1\n",
    "    print(\"Шаг \",k)\n",
    "    A=A-t*gr1\n",
    "    B=B-t*gr2\n",
    "    for i in range(0,n):\n",
    "        h=A+B*xh[i]\n",
    "        R=np.sum((h-yh[i])**2)\n",
    "        g1=np.sum(A+B*xh[i]-yh[i])\n",
    "        g2=np.sum(2*B*(xh[i]**2)-2*xh[i]*yh[i])\n",
    "    L=(1/(2*n))*R\n",
    "    gr1=(1/(2*n))*g1\n",
    "    gr2=(1/(2*n))*g2\n",
    "    G=math.sqrt((gr1**2)+(gr2**2))\n",
    "    print(\"Grad( \",gr1,\", \",gr2,\") \")\n",
    "    print(\"A= \",A,\"; B= \",B,\"; L(A,B)= \",L)\n",
    "    print(\"Условие: \",G)"
   ]
  },
  {
   "cell_type": "code",
   "execution_count": 12,
   "metadata": {},
   "outputs": [
    {
     "data": {
      "text/plain": [
       "-0.9657028930325252"
      ]
     },
     "execution_count": 12,
     "metadata": {},
     "output_type": "execute_result"
    }
   ],
   "source": [
    "A"
   ]
  },
  {
   "cell_type": "code",
   "execution_count": 13,
   "metadata": {},
   "outputs": [
    {
     "data": {
      "text/plain": [
       "[<matplotlib.lines.Line2D at 0x293daf30700>]"
      ]
     },
     "execution_count": 13,
     "metadata": {},
     "output_type": "execute_result"
    },
    {
     "data": {
      "image/png": "[encoded data removed]",
      "text/plain": [
       "<Figure size 720x432 with 1 Axes>"
      ]
     },
     "metadata": {
      "needs_background": "light"
     },
     "output_type": "display_data"
    }
   ],
   "source": [
    "plt.figure(figsize=(10,6))\n",
    "plt.scatter(m.weight,m.repwt,alpha=0.45,color='green')\n",
    "plt.scatter(f.weight,f.repwt,alpha=0.4,color='pink')\n",
    "plt.xlabel(\"Weight\")\n",
    "plt.ylabel(\"Repwt\")\n",
    "plt.ylim(36,130)\n",
    "plt.xlim(36,125)\n",
    "\n",
    "J=np.linspace(40,120,nx)\n",
    "plot(J,A+B*J,color='red',linewidth=3)"
   ]
  },
  {
   "cell_type": "code",
   "execution_count": 14,
   "metadata": {},
   "outputs": [
    {
     "data": {
      "text/plain": [
       "(36.0, 125.0)"
      ]
     },
     "execution_count": 14,
     "metadata": {},
     "output_type": "execute_result"
    },
    {
     "data": {
      "image/png": "[encoded data removed]",
      "text/plain": [
       "<Figure size 720x432 with 1 Axes>"
      ]
     },
     "metadata": {
      "needs_background": "light"
     },
     "output_type": "display_data"
    }
   ],
   "source": [
    "plt.figure(figsize=(10,6))\n",
    "plt.scatter(x,y,alpha=0.45,color='blue')\n",
    "plt.xlabel(\"Weight\")\n",
    "plt.ylabel(\"Repwt\")\n",
    "plt.ylim(36,130)\n",
    "plt.xlim(36,125)"
   ]
  },
  {
   "cell_type": "code",
   "execution_count": 15,
   "metadata": {},
   "outputs": [],
   "source": [
    "Regr=LinearRegression()"
   ]
  },
  {
   "cell_type": "code",
   "execution_count": 16,
   "metadata": {},
   "outputs": [
    {
     "data": {
      "text/plain": [
       "LinearRegression()"
      ]
     },
     "execution_count": 16,
     "metadata": {},
     "output_type": "execute_result"
    }
   ],
   "source": [
    "Regr.fit(x,y)"
   ]
  },
  {
   "cell_type": "code",
   "execution_count": 17,
   "metadata": {},
   "outputs": [
    {
     "data": {
      "text/plain": [
       "array([[1.016145]])"
      ]
     },
     "execution_count": 17,
     "metadata": {},
     "output_type": "execute_result"
    }
   ],
   "source": [
    "Regr.coef_"
   ]
  },
  {
   "cell_type": "code",
   "execution_count": 18,
   "metadata": {},
   "outputs": [
    {
     "data": {
      "text/plain": [
       "array([-1.08285278])"
      ]
     },
     "execution_count": 18,
     "metadata": {},
     "output_type": "execute_result"
    }
   ],
   "source": [
    "Regr.intercept_"
   ]
  },
  {
   "cell_type": "code",
   "execution_count": 19,
   "metadata": {},
   "outputs": [
    {
     "data": {
      "text/plain": [
       "array([[0.0090706]])"
      ]
     },
     "execution_count": 19,
     "metadata": {},
     "output_type": "execute_result"
    }
   ],
   "source": [
    "B-Regr.coef_"
   ]
  },
  {
   "cell_type": "code",
   "execution_count": 20,
   "metadata": {},
   "outputs": [
    {
     "data": {
      "text/plain": [
       "array([0.11714988])"
      ]
     },
     "execution_count": 20,
     "metadata": {},
     "output_type": "execute_result"
    }
   ],
   "source": [
    "A-Regr.intercept_"
   ]
  },
  {
   "cell_type": "code",
   "execution_count": 21,
   "metadata": {},
   "outputs": [
    {
     "data": {
      "text/plain": [
       "[<matplotlib.lines.Line2D at 0x293db0b7a90>]"
      ]
     },
     "execution_count": 21,
     "metadata": {},
     "output_type": "execute_result"
    },
    {
     "data": {
      "image/png": "[encoded data removed]",
      "text/plain": [
       "<Figure size 720x432 with 1 Axes>"
      ]
     },
     "metadata": {
      "needs_background": "light"
     },
     "output_type": "display_data"
    },
    {
     "data": {
      "image/png": "[encoded data removed]",
      "text/plain": [
       "<Figure size 720x432 with 1 Axes>"
      ]
     },
     "metadata": {
      "needs_background": "light"
     },
     "output_type": "display_data"
    }
   ],
   "source": [
    "\n",
    "plt.figure(figsize=(10,6))\n",
    "plt.scatter(x,y,alpha=0.45,color='blue')\n",
    "\n",
    "plt.plot(x, Regr.predict(x), color='red',linewidth=3)\n",
    "\n",
    "plt.xlabel(\"Weight\")\n",
    "plt.ylabel(\"Repwt\")\n",
    "plt.ylim(36,130)\n",
    "plt.xlim(36,125)\n",
    "\n",
    "\n",
    "plt.figure(figsize=(10,6))\n",
    "plt.scatter(m.weight,m.repwt,alpha=0.45,color='green')\n",
    "plt.scatter(f.weight,f.repwt,alpha=0.4,color='pink')\n",
    "plt.xlabel(\"Weight\")\n",
    "plt.ylabel(\"Repwt\")\n",
    "plt.ylim(36,130)\n",
    "plt.xlim(36,125)\n",
    "\n",
    "J=np.linspace(40,120,nx)\n",
    "plot(J,A+B*J,color='red',linewidth=3)"
   ]
  },
  {
   "cell_type": "code",
   "execution_count": 22,
   "metadata": {},
   "outputs": [
    {
     "data": {
      "text/plain": [
       "0.972439161560903"
      ]
     },
     "execution_count": 22,
     "metadata": {},
     "output_type": "execute_result"
    }
   ],
   "source": [
    "# Точность модели (R^2)\n",
    "Regr.score(x,y)"
   ]
  },
  {
   "cell_type": "code",
   "execution_count": 23,
   "metadata": {},
   "outputs": [
    {
     "data": {
      "text/plain": [
       "array([[51.75668728]])"
      ]
     },
     "execution_count": 23,
     "metadata": {},
     "output_type": "execute_result"
    }
   ],
   "source": [
    "Regr.predict([[52]])"
   ]
  },
  {
   "cell_type": "code",
   "execution_count": 24,
   "metadata": {},
   "outputs": [
    {
     "data": {
      "text/plain": [
       "array([[64.96657229]])"
      ]
     },
     "execution_count": 24,
     "metadata": {},
     "output_type": "execute_result"
    }
   ],
   "source": [
    "Regr.predict([[65]])"
   ]
  },
  {
   "cell_type": "code",
   "execution_count": 25,
   "metadata": {},
   "outputs": [
    {
     "data": {
      "text/plain": [
       "array([[75.1280223]])"
      ]
     },
     "execution_count": 25,
     "metadata": {},
     "output_type": "execute_result"
    }
   ],
   "source": [
    "Regr.predict([[75]])"
   ]
  },
  {
   "cell_type": "code",
   "execution_count": 26,
   "metadata": {},
   "outputs": [
    {
     "data": {
      "text/plain": [
       "array([[60.59714879]])"
      ]
     },
     "execution_count": 26,
     "metadata": {},
     "output_type": "execute_result"
    }
   ],
   "source": [
    "Regr.predict([[60.7]])"
   ]
  },
  {
   "cell_type": "markdown",
   "metadata": {},
   "source": [
    "## Добавим метку \"sex\" "
   ]
  },
  {
   "cell_type": "code",
   "execution_count": 27,
   "metadata": {},
   "outputs": [
    {
     "data": {
      "text/html": [
       "<div>\n",
       "<style scoped>\n",
       "    .dataframe tbody tr th:only-of-type {\n",
       "        vertical-align: middle;\n",
       "    }\n",
       "\n",
       "    .dataframe tbody tr th {\n",
       "        vertical-align: top;\n",
       "    }\n",
       "\n",
       "    .dataframe thead th {\n",
       "        text-align: right;\n",
       "    }\n",
       "</style>\n",
       "<table border=\"1\" class=\"dataframe\">\n",
       "  <thead>\n",
       "    <tr style=\"text-align: right;\">\n",
       "      <th></th>\n",
       "      <th>sex</th>\n",
       "      <th>weight</th>\n",
       "      <th>height</th>\n",
       "      <th>repwt</th>\n",
       "      <th>repht</th>\n",
       "    </tr>\n",
       "  </thead>\n",
       "  <tbody>\n",
       "    <tr>\n",
       "      <th>1</th>\n",
       "      <td>M</td>\n",
       "      <td>77</td>\n",
       "      <td>182</td>\n",
       "      <td>77.0</td>\n",
       "      <td>180.0</td>\n",
       "    </tr>\n",
       "    <tr>\n",
       "      <th>2</th>\n",
       "      <td>F</td>\n",
       "      <td>58</td>\n",
       "      <td>161</td>\n",
       "      <td>51.0</td>\n",
       "      <td>159.0</td>\n",
       "    </tr>\n",
       "    <tr>\n",
       "      <th>3</th>\n",
       "      <td>F</td>\n",
       "      <td>53</td>\n",
       "      <td>161</td>\n",
       "      <td>54.0</td>\n",
       "      <td>158.0</td>\n",
       "    </tr>\n",
       "    <tr>\n",
       "      <th>4</th>\n",
       "      <td>M</td>\n",
       "      <td>68</td>\n",
       "      <td>177</td>\n",
       "      <td>70.0</td>\n",
       "      <td>175.0</td>\n",
       "    </tr>\n",
       "    <tr>\n",
       "      <th>5</th>\n",
       "      <td>F</td>\n",
       "      <td>59</td>\n",
       "      <td>157</td>\n",
       "      <td>59.0</td>\n",
       "      <td>155.0</td>\n",
       "    </tr>\n",
       "  </tbody>\n",
       "</table>\n",
       "</div>"
      ],
      "text/plain": [
       "  sex  weight  height  repwt  repht\n",
       "1   M      77     182   77.0  180.0\n",
       "2   F      58     161   51.0  159.0\n",
       "3   F      53     161   54.0  158.0\n",
       "4   M      68     177   70.0  175.0\n",
       "5   F      59     157   59.0  155.0"
      ]
     },
     "execution_count": 27,
     "metadata": {},
     "output_type": "execute_result"
    }
   ],
   "source": [
    "cp = pd.read_csv('https://raw.githubusercontent.com/sdukshis/ml-intro/master/datasets/Davis.csv', index_col=0)\n",
    "cp.head()"
   ]
  },
  {
   "cell_type": "code",
   "execution_count": 28,
   "metadata": {},
   "outputs": [],
   "source": [
    "Ur= cp.dropna()"
   ]
  },
  {
   "cell_type": "code",
   "execution_count": 29,
   "metadata": {},
   "outputs": [],
   "source": [
    "cp['sex'] = cp['sex'].map(lambda s: {'M': 0, 'F': 1}[s])"
   ]
  },
  {
   "cell_type": "code",
   "execution_count": 30,
   "metadata": {},
   "outputs": [
    {
     "data": {
      "text/html": [
       "<div>\n",
       "<style scoped>\n",
       "    .dataframe tbody tr th:only-of-type {\n",
       "        vertical-align: middle;\n",
       "    }\n",
       "\n",
       "    .dataframe tbody tr th {\n",
       "        vertical-align: top;\n",
       "    }\n",
       "\n",
       "    .dataframe thead th {\n",
       "        text-align: right;\n",
       "    }\n",
       "</style>\n",
       "<table border=\"1\" class=\"dataframe\">\n",
       "  <thead>\n",
       "    <tr style=\"text-align: right;\">\n",
       "      <th></th>\n",
       "      <th>sex</th>\n",
       "      <th>weight</th>\n",
       "      <th>height</th>\n",
       "      <th>repwt</th>\n",
       "      <th>repht</th>\n",
       "    </tr>\n",
       "  </thead>\n",
       "  <tbody>\n",
       "    <tr>\n",
       "      <th>1</th>\n",
       "      <td>0</td>\n",
       "      <td>77</td>\n",
       "      <td>182</td>\n",
       "      <td>77.0</td>\n",
       "      <td>180.0</td>\n",
       "    </tr>\n",
       "    <tr>\n",
       "      <th>2</th>\n",
       "      <td>1</td>\n",
       "      <td>58</td>\n",
       "      <td>161</td>\n",
       "      <td>51.0</td>\n",
       "      <td>159.0</td>\n",
       "    </tr>\n",
       "    <tr>\n",
       "      <th>3</th>\n",
       "      <td>1</td>\n",
       "      <td>53</td>\n",
       "      <td>161</td>\n",
       "      <td>54.0</td>\n",
       "      <td>158.0</td>\n",
       "    </tr>\n",
       "    <tr>\n",
       "      <th>4</th>\n",
       "      <td>0</td>\n",
       "      <td>68</td>\n",
       "      <td>177</td>\n",
       "      <td>70.0</td>\n",
       "      <td>175.0</td>\n",
       "    </tr>\n",
       "    <tr>\n",
       "      <th>5</th>\n",
       "      <td>1</td>\n",
       "      <td>59</td>\n",
       "      <td>157</td>\n",
       "      <td>59.0</td>\n",
       "      <td>155.0</td>\n",
       "    </tr>\n",
       "  </tbody>\n",
       "</table>\n",
       "</div>"
      ],
      "text/plain": [
       "   sex  weight  height  repwt  repht\n",
       "1    0      77     182   77.0  180.0\n",
       "2    1      58     161   51.0  159.0\n",
       "3    1      53     161   54.0  158.0\n",
       "4    0      68     177   70.0  175.0\n",
       "5    1      59     157   59.0  155.0"
      ]
     },
     "execution_count": 30,
     "metadata": {},
     "output_type": "execute_result"
    }
   ],
   "source": [
    "cp.head()"
   ]
  },
  {
   "cell_type": "code",
   "execution_count": null,
   "metadata": {},
   "outputs": [],
   "source": []
  },
  {
   "cell_type": "code",
   "execution_count": null,
   "metadata": {},
   "outputs": [],
   "source": []
  }
 ],
 "metadata": {
  "kernelspec": {
   "display_name": "Python 3",
   "language": "python",
   "name": "python3"
  },
  "language_info": {
   "codemirror_mode": {
    "name": "ipython",
    "version": 3
   },
   "file_extension": ".py",
   "mimetype": "text/x-python",
   "name": "python",
   "nbconvert_exporter": "python",
   "pygments_lexer": "ipython3",
   "version": "3.8.8"
  }
 },
 "nbformat": 4,
 "nbformat_minor": 2
}
